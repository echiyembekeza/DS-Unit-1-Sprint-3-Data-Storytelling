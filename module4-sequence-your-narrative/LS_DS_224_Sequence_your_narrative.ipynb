{
 "cells": [
  {
   "cell_type": "markdown",
   "metadata": {
    "colab_type": "text",
    "id": "JbDHnhet8CWy"
   },
   "source": [
    "_Lambda School Data Science_\n",
    "\n",
    "# Sequence your narrative\n",
    "\n",
    "Today we will create a sequence of visualizations inspired by [Hans Rosling's 200 Countries, 200 Years, 4 Minutes](https://www.youtube.com/watch?v=jbkSRLYSojo).\n",
    "\n",
    "Using this [data from Gapminder](https://github.com/open-numbers/ddf--gapminder--systema_globalis/):\n",
    "- [Income Per Person (GDP Per Capital, Inflation Adjusted) by Geo & Time](https://raw.githubusercontent.com/open-numbers/ddf--gapminder--systema_globalis/master/ddf--datapoints--income_per_person_gdppercapita_ppp_inflation_adjusted--by--geo--time.csv)\n",
    "- [Life Expectancy (in Years) by Geo & Time](https://raw.githubusercontent.com/open-numbers/ddf--gapminder--systema_globalis/master/ddf--datapoints--life_expectancy_years--by--geo--time.csv)\n",
    "- [Population Totals, by Geo & Time](https://raw.githubusercontent.com/open-numbers/ddf--gapminder--systema_globalis/master/ddf--datapoints--population_total--by--geo--time.csv)\n",
    "- [Entities](https://raw.githubusercontent.com/open-numbers/ddf--gapminder--systema_globalis/master/ddf--entities--geo--country.csv)\n",
    "- [Concepts](https://raw.githubusercontent.com/open-numbers/ddf--gapminder--systema_globalis/master/ddf--concepts.csv)"
   ]
  },
  {
   "cell_type": "markdown",
   "metadata": {
    "colab_type": "text",
    "id": "zyPYtsY6HtIK"
   },
   "source": [
    "Objectives\n",
    "- sequence multiple visualizations\n",
    "- combine qualitative anecdotes with quantitative aggregates\n",
    "\n",
    "Links\n",
    "- [Hans Rosling’s TED talks](https://www.ted.com/speakers/hans_rosling)\n",
    "- [Spiralling global temperatures from 1850-2016](https://twitter.com/ed_hawkins/status/729753441459945474)\n",
    "- \"[The Pudding](https://pudding.cool/) explains ideas debated in culture with visual essays.\"\n",
    "- [A Data Point Walks Into a Bar](https://lisacharlotterost.github.io/2016/12/27/datapoint-in-bar/): a thoughtful blog post about emotion and empathy in data storytelling"
   ]
  },
  {
   "cell_type": "markdown",
   "metadata": {
    "colab_type": "text",
    "id": "SxTJBgRAW3jD"
   },
   "source": [
    "## Make a plan\n",
    "\n",
    "#### How to present the data?\n",
    "\n",
    "Variables --> Visual Encodings\n",
    "- Income --> x\n",
    "- Lifespan --> y\n",
    "- Region --> color\n",
    "- Population --> size\n",
    "- Year --> animation frame (alternative: small multiple)\n",
    "- Country --> annotation\n",
    "\n",
    "Qualitative --> Verbal\n",
    "- Editorial / contextual explanation --> audio narration (alternative: text)\n",
    "\n",
    "\n",
    "#### How to structure the data?\n",
    "\n",
    "| Year | Country | Region   | Income | Lifespan | Population |\n",
    "|------|---------|----------|--------|----------|------------|\n",
    "| 1818 | USA     | Americas | ###    | ##       | #          |\n",
    "| 1918 | USA     | Americas | ####   | ###      | ##         |\n",
    "| 2018 | USA     | Americas | #####  | ###      | ###        |\n",
    "| 1818 | China   | Asia     | #      | #        | #          |\n",
    "| 1918 | China   | Asia     | ##     | ##       | ###        |\n",
    "| 2018 | China   | Asia     | ###    | ###      | #####      |\n"
   ]
  },
  {
   "cell_type": "markdown",
   "metadata": {
    "colab_type": "text",
    "id": "3ebEjShbWsIy"
   },
   "source": [
    "## Upgrade Seaborn\n",
    "\n",
    "Make sure you have at least version 0.9.0.\n",
    "\n",
    "In Colab, go to **Restart runtime** after you run the `pip` command."
   ]
  },
  {
   "cell_type": "code",
   "execution_count": 0,
   "metadata": {
    "colab": {},
    "colab_type": "code",
    "id": "4RSxbu7rWr1p"
   },
   "outputs": [],
   "source": [
    "!pip install --upgrade seaborn"
   ]
  },
  {
   "cell_type": "code",
   "execution_count": 1,
   "metadata": {
    "colab": {},
    "colab_type": "code",
    "id": "5sQ0-7JUWyN4"
   },
   "outputs": [
    {
     "data": {
      "text/plain": [
       "'0.9.0'"
      ]
     },
     "execution_count": 1,
     "metadata": {},
     "output_type": "execute_result"
    }
   ],
   "source": [
    "import seaborn as sns\n",
    "sns.__version__"
   ]
  },
  {
   "cell_type": "markdown",
   "metadata": {
    "colab_type": "text",
    "id": "S2dXWRTFTsgd"
   },
   "source": [
    "## More imports"
   ]
  },
  {
   "cell_type": "code",
   "execution_count": 4,
   "metadata": {
    "colab": {},
    "colab_type": "code",
    "id": "y-TgL_mA8OkF"
   },
   "outputs": [],
   "source": [
    "%matplotlib inline \n",
    "#this is necessary to render within the notebook\n",
    "import matplotlib.pyplot as plt\n",
    "import numpy as np\n",
    "import pandas as pd"
   ]
  },
  {
   "cell_type": "code",
   "execution_count": 19,
   "metadata": {},
   "outputs": [],
   "source": [
    "def start():\n",
    "    options = {\n",
    "        'display': {\n",
    "            'max_columns': None,\n",
    "            'max_colwidth': 25,\n",
    "            'expand_frame_repr': False,  # Don't wrap to multiple pages\n",
    "            'max_rows': 14,\n",
    "            'max_seq_items': 50,         # Max length of printed sequence\n",
    "            'precision': 4,\n",
    "            'show_dimensions': False\n",
    "        },\n",
    "        'mode': {\n",
    "            'chained_assignment': None   # Controls SettingWithCopyWarning\n",
    "        }\n",
    "    }\n",
    "\n",
    "    for category, option in options.items():\n",
    "        for op, value in option.items():\n",
    "            pd.set_option(f'{category}.{op}', value)  # Python 3.6+\n",
    "\n",
    "if __name__ == '__main__':\n",
    "    start()\n",
    "    del start  # Clean up namespace in the interpreter"
   ]
  },
  {
   "cell_type": "markdown",
   "metadata": {
    "colab_type": "text",
    "id": "CZGG5prcTxrQ"
   },
   "source": [
    "## Load & look at data"
   ]
  },
  {
   "cell_type": "code",
   "execution_count": 20,
   "metadata": {},
   "outputs": [],
   "source": [
    "#In the future we may want to make a dict of the files"
   ]
  },
  {
   "cell_type": "code",
   "execution_count": 5,
   "metadata": {
    "colab": {},
    "colab_type": "code",
    "id": "-uE25LHD8CW0"
   },
   "outputs": [],
   "source": [
    "income = pd.read_csv('https://raw.githubusercontent.com/open-numbers/ddf--gapminder--systema_globalis/master/ddf--datapoints--income_per_person_gdppercapita_ppp_inflation_adjusted--by--geo--time.csv')"
   ]
  },
  {
   "cell_type": "code",
   "execution_count": 6,
   "metadata": {
    "colab": {},
    "colab_type": "code",
    "id": "gg_pJslMY2bq"
   },
   "outputs": [],
   "source": [
    "lifespan = pd.read_csv('https://raw.githubusercontent.com/open-numbers/ddf--gapminder--systema_globalis/master/ddf--datapoints--life_expectancy_years--by--geo--time.csv')"
   ]
  },
  {
   "cell_type": "code",
   "execution_count": 7,
   "metadata": {
    "colab": {},
    "colab_type": "code",
    "id": "F6knDUevY-xR"
   },
   "outputs": [],
   "source": [
    "population = pd.read_csv('https://raw.githubusercontent.com/open-numbers/ddf--gapminder--systema_globalis/master/ddf--datapoints--population_total--by--geo--time.csv')"
   ]
  },
  {
   "cell_type": "code",
   "execution_count": 8,
   "metadata": {
    "colab": {},
    "colab_type": "code",
    "id": "hX6abI-iZGLl"
   },
   "outputs": [],
   "source": [
    "entities = pd.read_csv('https://raw.githubusercontent.com/open-numbers/ddf--gapminder--systema_globalis/master/ddf--entities--geo--country.csv')"
   ]
  },
  {
   "cell_type": "code",
   "execution_count": 9,
   "metadata": {
    "colab": {},
    "colab_type": "code",
    "id": "AI-zcaDkZHXm"
   },
   "outputs": [],
   "source": [
    "concepts = pd.read_csv('https://raw.githubusercontent.com/open-numbers/ddf--gapminder--systema_globalis/master/ddf--concepts.csv')"
   ]
  },
  {
   "cell_type": "code",
   "execution_count": 10,
   "metadata": {
    "colab": {},
    "colab_type": "code",
    "id": "EgFw-g0nZLJy"
   },
   "outputs": [
    {
     "data": {
      "text/plain": [
       "((46513, 3), (44370, 3), (59297, 3), (273, 33), (590, 16))"
      ]
     },
     "execution_count": 10,
     "metadata": {},
     "output_type": "execute_result"
    }
   ],
   "source": [
    "income.shape, lifespan.shape, population.shape, entities.shape, concepts.shape"
   ]
  },
  {
   "cell_type": "code",
   "execution_count": 11,
   "metadata": {
    "colab": {},
    "colab_type": "code",
    "id": "I-T62v7FZQu5"
   },
   "outputs": [
    {
     "data": {
      "text/html": [
       "<div>\n",
       "<style scoped>\n",
       "    .dataframe tbody tr th:only-of-type {\n",
       "        vertical-align: middle;\n",
       "    }\n",
       "\n",
       "    .dataframe tbody tr th {\n",
       "        vertical-align: top;\n",
       "    }\n",
       "\n",
       "    .dataframe thead th {\n",
       "        text-align: right;\n",
       "    }\n",
       "</style>\n",
       "<table border=\"1\" class=\"dataframe\">\n",
       "  <thead>\n",
       "    <tr style=\"text-align: right;\">\n",
       "      <th></th>\n",
       "      <th>geo</th>\n",
       "      <th>time</th>\n",
       "      <th>income_per_person_gdppercapita_ppp_inflation_adjusted</th>\n",
       "    </tr>\n",
       "  </thead>\n",
       "  <tbody>\n",
       "    <tr>\n",
       "      <th>0</th>\n",
       "      <td>afg</td>\n",
       "      <td>1800</td>\n",
       "      <td>603</td>\n",
       "    </tr>\n",
       "    <tr>\n",
       "      <th>1</th>\n",
       "      <td>afg</td>\n",
       "      <td>1801</td>\n",
       "      <td>603</td>\n",
       "    </tr>\n",
       "    <tr>\n",
       "      <th>2</th>\n",
       "      <td>afg</td>\n",
       "      <td>1802</td>\n",
       "      <td>603</td>\n",
       "    </tr>\n",
       "    <tr>\n",
       "      <th>3</th>\n",
       "      <td>afg</td>\n",
       "      <td>1803</td>\n",
       "      <td>603</td>\n",
       "    </tr>\n",
       "    <tr>\n",
       "      <th>4</th>\n",
       "      <td>afg</td>\n",
       "      <td>1804</td>\n",
       "      <td>603</td>\n",
       "    </tr>\n",
       "  </tbody>\n",
       "</table>\n",
       "</div>"
      ],
      "text/plain": [
       "   geo  time  income_per_person_gdppercapita_ppp_inflation_adjusted\n",
       "0  afg  1800                                                603    \n",
       "1  afg  1801                                                603    \n",
       "2  afg  1802                                                603    \n",
       "3  afg  1803                                                603    \n",
       "4  afg  1804                                                603    "
      ]
     },
     "execution_count": 11,
     "metadata": {},
     "output_type": "execute_result"
    }
   ],
   "source": [
    "income.head()"
   ]
  },
  {
   "cell_type": "code",
   "execution_count": 12,
   "metadata": {
    "colab": {},
    "colab_type": "code",
    "id": "2zIdtDESZYG5"
   },
   "outputs": [
    {
     "data": {
      "text/html": [
       "<div>\n",
       "<style scoped>\n",
       "    .dataframe tbody tr th:only-of-type {\n",
       "        vertical-align: middle;\n",
       "    }\n",
       "\n",
       "    .dataframe tbody tr th {\n",
       "        vertical-align: top;\n",
       "    }\n",
       "\n",
       "    .dataframe thead th {\n",
       "        text-align: right;\n",
       "    }\n",
       "</style>\n",
       "<table border=\"1\" class=\"dataframe\">\n",
       "  <thead>\n",
       "    <tr style=\"text-align: right;\">\n",
       "      <th></th>\n",
       "      <th>geo</th>\n",
       "      <th>time</th>\n",
       "      <th>life_expectancy_years</th>\n",
       "    </tr>\n",
       "  </thead>\n",
       "  <tbody>\n",
       "    <tr>\n",
       "      <th>0</th>\n",
       "      <td>abw</td>\n",
       "      <td>1800</td>\n",
       "      <td>34.42</td>\n",
       "    </tr>\n",
       "    <tr>\n",
       "      <th>1</th>\n",
       "      <td>abw</td>\n",
       "      <td>1801</td>\n",
       "      <td>34.42</td>\n",
       "    </tr>\n",
       "    <tr>\n",
       "      <th>2</th>\n",
       "      <td>abw</td>\n",
       "      <td>1802</td>\n",
       "      <td>34.42</td>\n",
       "    </tr>\n",
       "    <tr>\n",
       "      <th>3</th>\n",
       "      <td>abw</td>\n",
       "      <td>1803</td>\n",
       "      <td>34.42</td>\n",
       "    </tr>\n",
       "    <tr>\n",
       "      <th>4</th>\n",
       "      <td>abw</td>\n",
       "      <td>1804</td>\n",
       "      <td>34.42</td>\n",
       "    </tr>\n",
       "  </tbody>\n",
       "</table>\n",
       "</div>"
      ],
      "text/plain": [
       "   geo  time  life_expectancy_years\n",
       "0  abw  1800                  34.42\n",
       "1  abw  1801                  34.42\n",
       "2  abw  1802                  34.42\n",
       "3  abw  1803                  34.42\n",
       "4  abw  1804                  34.42"
      ]
     },
     "execution_count": 12,
     "metadata": {},
     "output_type": "execute_result"
    }
   ],
   "source": [
    "lifespan.head()"
   ]
  },
  {
   "cell_type": "code",
   "execution_count": 13,
   "metadata": {
    "colab": {},
    "colab_type": "code",
    "id": "58AXNVMKZj3T"
   },
   "outputs": [
    {
     "data": {
      "text/html": [
       "<div>\n",
       "<style scoped>\n",
       "    .dataframe tbody tr th:only-of-type {\n",
       "        vertical-align: middle;\n",
       "    }\n",
       "\n",
       "    .dataframe tbody tr th {\n",
       "        vertical-align: top;\n",
       "    }\n",
       "\n",
       "    .dataframe thead th {\n",
       "        text-align: right;\n",
       "    }\n",
       "</style>\n",
       "<table border=\"1\" class=\"dataframe\">\n",
       "  <thead>\n",
       "    <tr style=\"text-align: right;\">\n",
       "      <th></th>\n",
       "      <th>geo</th>\n",
       "      <th>time</th>\n",
       "      <th>population_total</th>\n",
       "    </tr>\n",
       "  </thead>\n",
       "  <tbody>\n",
       "    <tr>\n",
       "      <th>0</th>\n",
       "      <td>afg</td>\n",
       "      <td>1800</td>\n",
       "      <td>3280000</td>\n",
       "    </tr>\n",
       "    <tr>\n",
       "      <th>1</th>\n",
       "      <td>afg</td>\n",
       "      <td>1801</td>\n",
       "      <td>3280000</td>\n",
       "    </tr>\n",
       "    <tr>\n",
       "      <th>2</th>\n",
       "      <td>afg</td>\n",
       "      <td>1802</td>\n",
       "      <td>3280000</td>\n",
       "    </tr>\n",
       "    <tr>\n",
       "      <th>3</th>\n",
       "      <td>afg</td>\n",
       "      <td>1803</td>\n",
       "      <td>3280000</td>\n",
       "    </tr>\n",
       "    <tr>\n",
       "      <th>4</th>\n",
       "      <td>afg</td>\n",
       "      <td>1804</td>\n",
       "      <td>3280000</td>\n",
       "    </tr>\n",
       "  </tbody>\n",
       "</table>\n",
       "</div>"
      ],
      "text/plain": [
       "   geo  time  population_total\n",
       "0  afg  1800           3280000\n",
       "1  afg  1801           3280000\n",
       "2  afg  1802           3280000\n",
       "3  afg  1803           3280000\n",
       "4  afg  1804           3280000"
      ]
     },
     "execution_count": 13,
     "metadata": {},
     "output_type": "execute_result"
    }
   ],
   "source": [
    "population.head()"
   ]
  },
  {
   "cell_type": "code",
   "execution_count": 17,
   "metadata": {
    "colab": {},
    "colab_type": "code",
    "id": "0ywWDL2MZqlF"
   },
   "outputs": [
    {
     "data": {
      "text/html": [
       "<div>\n",
       "<style scoped>\n",
       "    .dataframe tbody tr th:only-of-type {\n",
       "        vertical-align: middle;\n",
       "    }\n",
       "\n",
       "    .dataframe tbody tr th {\n",
       "        vertical-align: top;\n",
       "    }\n",
       "\n",
       "    .dataframe thead th {\n",
       "        text-align: right;\n",
       "    }\n",
       "</style>\n",
       "<table border=\"1\" class=\"dataframe\">\n",
       "  <thead>\n",
       "    <tr style=\"text-align: right;\">\n",
       "      <th></th>\n",
       "      <th>country</th>\n",
       "      <th>alt_5</th>\n",
       "      <th>alternative_1</th>\n",
       "      <th>alternative_2</th>\n",
       "      <th>alternative_3</th>\n",
       "      <th>alternative_4_cdiac</th>\n",
       "      <th>arb1</th>\n",
       "      <th>arb2</th>\n",
       "      <th>arb3</th>\n",
       "      <th>arb4</th>\n",
       "      <th>arb5</th>\n",
       "      <th>arb6</th>\n",
       "      <th>g77_and_oecd_countries</th>\n",
       "      <th>gapminder_list</th>\n",
       "      <th>god_id</th>\n",
       "      <th>gwid</th>\n",
       "      <th>income_groups</th>\n",
       "      <th>is--country</th>\n",
       "      <th>iso3166_1_alpha2</th>\n",
       "      <th>iso3166_1_alpha3</th>\n",
       "      <th>iso3166_1_numeric</th>\n",
       "      <th>iso3166_2</th>\n",
       "      <th>landlocked</th>\n",
       "      <th>latitude</th>\n",
       "      <th>longitude</th>\n",
       "      <th>main_religion_2008</th>\n",
       "      <th>name</th>\n",
       "      <th>pandg</th>\n",
       "      <th>un_state</th>\n",
       "      <th>unicode_region_subtag</th>\n",
       "      <th>upper_case_name</th>\n",
       "      <th>world_4region</th>\n",
       "      <th>world_6region</th>\n",
       "    </tr>\n",
       "  </thead>\n",
       "  <tbody>\n",
       "    <tr>\n",
       "      <th>0</th>\n",
       "      <td>abkh</td>\n",
       "      <td>NaN</td>\n",
       "      <td>NaN</td>\n",
       "      <td>NaN</td>\n",
       "      <td>NaN</td>\n",
       "      <td>NaN</td>\n",
       "      <td>NaN</td>\n",
       "      <td>NaN</td>\n",
       "      <td>NaN</td>\n",
       "      <td>NaN</td>\n",
       "      <td>NaN</td>\n",
       "      <td>NaN</td>\n",
       "      <td>others</td>\n",
       "      <td>Abkhazia</td>\n",
       "      <td>GE-AB</td>\n",
       "      <td>i0</td>\n",
       "      <td>NaN</td>\n",
       "      <td>True</td>\n",
       "      <td>NaN</td>\n",
       "      <td>NaN</td>\n",
       "      <td>NaN</td>\n",
       "      <td>NaN</td>\n",
       "      <td>NaN</td>\n",
       "      <td>NaN</td>\n",
       "      <td>NaN</td>\n",
       "      <td>NaN</td>\n",
       "      <td>Abkhazia</td>\n",
       "      <td>NaN</td>\n",
       "      <td>False</td>\n",
       "      <td>NaN</td>\n",
       "      <td>NaN</td>\n",
       "      <td>europe</td>\n",
       "      <td>europe_central_asia</td>\n",
       "    </tr>\n",
       "    <tr>\n",
       "      <th>1</th>\n",
       "      <td>abw</td>\n",
       "      <td>NaN</td>\n",
       "      <td>NaN</td>\n",
       "      <td>NaN</td>\n",
       "      <td>NaN</td>\n",
       "      <td>Aruba</td>\n",
       "      <td>NaN</td>\n",
       "      <td>NaN</td>\n",
       "      <td>NaN</td>\n",
       "      <td>NaN</td>\n",
       "      <td>NaN</td>\n",
       "      <td>NaN</td>\n",
       "      <td>others</td>\n",
       "      <td>Aruba</td>\n",
       "      <td>AW</td>\n",
       "      <td>i12</td>\n",
       "      <td>high_income</td>\n",
       "      <td>True</td>\n",
       "      <td>AW</td>\n",
       "      <td>ABW</td>\n",
       "      <td>533.0</td>\n",
       "      <td>NaN</td>\n",
       "      <td>coastline</td>\n",
       "      <td>12.50000</td>\n",
       "      <td>-69.96667</td>\n",
       "      <td>christian</td>\n",
       "      <td>Aruba</td>\n",
       "      <td>NaN</td>\n",
       "      <td>False</td>\n",
       "      <td>AW</td>\n",
       "      <td>ARUBA</td>\n",
       "      <td>americas</td>\n",
       "      <td>america</td>\n",
       "    </tr>\n",
       "    <tr>\n",
       "      <th>2</th>\n",
       "      <td>afg</td>\n",
       "      <td>NaN</td>\n",
       "      <td>Islamic Republic of Afghanistan</td>\n",
       "      <td>NaN</td>\n",
       "      <td>NaN</td>\n",
       "      <td>Afghanistan</td>\n",
       "      <td>NaN</td>\n",
       "      <td>NaN</td>\n",
       "      <td>NaN</td>\n",
       "      <td>NaN</td>\n",
       "      <td>NaN</td>\n",
       "      <td>NaN</td>\n",
       "      <td>g77</td>\n",
       "      <td>Afghanistan</td>\n",
       "      <td>AF</td>\n",
       "      <td>i1</td>\n",
       "      <td>low_income</td>\n",
       "      <td>True</td>\n",
       "      <td>AF</td>\n",
       "      <td>AFG</td>\n",
       "      <td>4.0</td>\n",
       "      <td>NaN</td>\n",
       "      <td>landlocked</td>\n",
       "      <td>33.00000</td>\n",
       "      <td>66.00000</td>\n",
       "      <td>muslim</td>\n",
       "      <td>Afghanistan</td>\n",
       "      <td>AFGHANISTAN</td>\n",
       "      <td>True</td>\n",
       "      <td>AF</td>\n",
       "      <td>AFGHANISTAN</td>\n",
       "      <td>asia</td>\n",
       "      <td>south_asia</td>\n",
       "    </tr>\n",
       "    <tr>\n",
       "      <th>3</th>\n",
       "      <td>ago</td>\n",
       "      <td>NaN</td>\n",
       "      <td>NaN</td>\n",
       "      <td>NaN</td>\n",
       "      <td>NaN</td>\n",
       "      <td>Angola</td>\n",
       "      <td>NaN</td>\n",
       "      <td>NaN</td>\n",
       "      <td>NaN</td>\n",
       "      <td>NaN</td>\n",
       "      <td>NaN</td>\n",
       "      <td>NaN</td>\n",
       "      <td>g77</td>\n",
       "      <td>Angola</td>\n",
       "      <td>AO</td>\n",
       "      <td>i7</td>\n",
       "      <td>upper_middle_income</td>\n",
       "      <td>True</td>\n",
       "      <td>AO</td>\n",
       "      <td>AGO</td>\n",
       "      <td>24.0</td>\n",
       "      <td>NaN</td>\n",
       "      <td>coastline</td>\n",
       "      <td>-12.50000</td>\n",
       "      <td>18.50000</td>\n",
       "      <td>christian</td>\n",
       "      <td>Angola</td>\n",
       "      <td>ANGOLA</td>\n",
       "      <td>True</td>\n",
       "      <td>AO</td>\n",
       "      <td>ANGOLA</td>\n",
       "      <td>africa</td>\n",
       "      <td>sub_saharan_africa</td>\n",
       "    </tr>\n",
       "    <tr>\n",
       "      <th>4</th>\n",
       "      <td>aia</td>\n",
       "      <td>NaN</td>\n",
       "      <td>NaN</td>\n",
       "      <td>NaN</td>\n",
       "      <td>NaN</td>\n",
       "      <td>NaN</td>\n",
       "      <td>NaN</td>\n",
       "      <td>NaN</td>\n",
       "      <td>NaN</td>\n",
       "      <td>NaN</td>\n",
       "      <td>NaN</td>\n",
       "      <td>NaN</td>\n",
       "      <td>others</td>\n",
       "      <td>Anguilla</td>\n",
       "      <td>AI</td>\n",
       "      <td>i8</td>\n",
       "      <td>NaN</td>\n",
       "      <td>True</td>\n",
       "      <td>AI</td>\n",
       "      <td>AIA</td>\n",
       "      <td>660.0</td>\n",
       "      <td>NaN</td>\n",
       "      <td>coastline</td>\n",
       "      <td>18.21667</td>\n",
       "      <td>-63.05000</td>\n",
       "      <td>christian</td>\n",
       "      <td>Anguilla</td>\n",
       "      <td>NaN</td>\n",
       "      <td>False</td>\n",
       "      <td>AI</td>\n",
       "      <td>ANGUILLA</td>\n",
       "      <td>americas</td>\n",
       "      <td>america</td>\n",
       "    </tr>\n",
       "  </tbody>\n",
       "</table>\n",
       "</div>"
      ],
      "text/plain": [
       "  country alt_5                    alternative_1 alternative_2 alternative_3  \\\n",
       "0    abkh   NaN                              NaN           NaN           NaN   \n",
       "1     abw   NaN                              NaN           NaN           NaN   \n",
       "2     afg   NaN  Islamic Republic of Afghanistan           NaN           NaN   \n",
       "3     ago   NaN                              NaN           NaN           NaN   \n",
       "4     aia   NaN                              NaN           NaN           NaN   \n",
       "\n",
       "  alternative_4_cdiac arb1 arb2 arb3 arb4 arb5 arb6 g77_and_oecd_countries  \\\n",
       "0                 NaN  NaN  NaN  NaN  NaN  NaN  NaN                 others   \n",
       "1               Aruba  NaN  NaN  NaN  NaN  NaN  NaN                 others   \n",
       "2         Afghanistan  NaN  NaN  NaN  NaN  NaN  NaN                    g77   \n",
       "3              Angola  NaN  NaN  NaN  NaN  NaN  NaN                    g77   \n",
       "4                 NaN  NaN  NaN  NaN  NaN  NaN  NaN                 others   \n",
       "\n",
       "  gapminder_list god_id gwid        income_groups  is--country  \\\n",
       "0       Abkhazia  GE-AB   i0                  NaN         True   \n",
       "1          Aruba     AW  i12          high_income         True   \n",
       "2    Afghanistan     AF   i1           low_income         True   \n",
       "3         Angola     AO   i7  upper_middle_income         True   \n",
       "4       Anguilla     AI   i8                  NaN         True   \n",
       "\n",
       "  iso3166_1_alpha2 iso3166_1_alpha3  iso3166_1_numeric iso3166_2  landlocked  \\\n",
       "0              NaN              NaN                NaN       NaN         NaN   \n",
       "1               AW              ABW              533.0       NaN   coastline   \n",
       "2               AF              AFG                4.0       NaN  landlocked   \n",
       "3               AO              AGO               24.0       NaN   coastline   \n",
       "4               AI              AIA              660.0       NaN   coastline   \n",
       "\n",
       "   latitude  longitude main_religion_2008         name        pandg  un_state  \\\n",
       "0       NaN        NaN                NaN     Abkhazia          NaN     False   \n",
       "1  12.50000  -69.96667          christian        Aruba          NaN     False   \n",
       "2  33.00000   66.00000             muslim  Afghanistan  AFGHANISTAN      True   \n",
       "3 -12.50000   18.50000          christian       Angola       ANGOLA      True   \n",
       "4  18.21667  -63.05000          christian     Anguilla          NaN     False   \n",
       "\n",
       "  unicode_region_subtag upper_case_name world_4region        world_6region  \n",
       "0                   NaN             NaN        europe  europe_central_asia  \n",
       "1                    AW           ARUBA      americas              america  \n",
       "2                    AF     AFGHANISTAN          asia           south_asia  \n",
       "3                    AO          ANGOLA        africa   sub_saharan_africa  \n",
       "4                    AI        ANGUILLA      americas              america  "
      ]
     },
     "execution_count": 17,
     "metadata": {},
     "output_type": "execute_result"
    }
   ],
   "source": [
    "pd.options.display.max_columns = 500\n",
    "entities.head()\n",
    "#looks like the country column may mean the same thing as the 'geo' in the other tables"
   ]
  },
  {
   "cell_type": "code",
   "execution_count": 18,
   "metadata": {
    "colab": {},
    "colab_type": "code",
    "id": "mk_R0eFZZ0G5"
   },
   "outputs": [
    {
     "data": {
      "text/html": [
       "<div>\n",
       "<style scoped>\n",
       "    .dataframe tbody tr th:only-of-type {\n",
       "        vertical-align: middle;\n",
       "    }\n",
       "\n",
       "    .dataframe tbody tr th {\n",
       "        vertical-align: top;\n",
       "    }\n",
       "\n",
       "    .dataframe thead th {\n",
       "        text-align: right;\n",
       "    }\n",
       "</style>\n",
       "<table border=\"1\" class=\"dataframe\">\n",
       "  <thead>\n",
       "    <tr style=\"text-align: right;\">\n",
       "      <th></th>\n",
       "      <th>concept</th>\n",
       "      <th>color</th>\n",
       "      <th>concept_type</th>\n",
       "      <th>description</th>\n",
       "      <th>description_long</th>\n",
       "      <th>domain</th>\n",
       "      <th>drill_up</th>\n",
       "      <th>indicator_url</th>\n",
       "      <th>name</th>\n",
       "      <th>name_catalog</th>\n",
       "      <th>name_short</th>\n",
       "      <th>scales</th>\n",
       "      <th>source</th>\n",
       "      <th>source_long</th>\n",
       "      <th>source_url</th>\n",
       "      <th>tags</th>\n",
       "    </tr>\n",
       "  </thead>\n",
       "  <tbody>\n",
       "    <tr>\n",
       "      <th>0</th>\n",
       "      <td>adults_with_hiv_percent_age_15_49</td>\n",
       "      <td>NaN</td>\n",
       "      <td>measure</td>\n",
       "      <td>The estimated percentage of adults aged 15 to ...</td>\n",
       "      <td>NaN</td>\n",
       "      <td>NaN</td>\n",
       "      <td>NaN</td>\n",
       "      <td>NaN</td>\n",
       "      <td>Adults with HIV (%, age 15-49)</td>\n",
       "      <td>Adults with HIV (%, age 15-49)</td>\n",
       "      <td>Adults with HIV</td>\n",
       "      <td>[\"log\", \"linear\"]</td>\n",
       "      <td>NaN</td>\n",
       "      <td>NaN</td>\n",
       "      <td>https://www.gapminder.org/gapminder-world/docu...</td>\n",
       "      <td>hiv</td>\n",
       "    </tr>\n",
       "    <tr>\n",
       "      <th>1</th>\n",
       "      <td>age_at_1st_marriage_women</td>\n",
       "      <td>NaN</td>\n",
       "      <td>measure</td>\n",
       "      <td>The mean age, in years, of first marriage for ...</td>\n",
       "      <td>NaN</td>\n",
       "      <td>NaN</td>\n",
       "      <td>NaN</td>\n",
       "      <td>NaN</td>\n",
       "      <td>Age at 1st marriage (women)</td>\n",
       "      <td>Age at 1st marriage (women)</td>\n",
       "      <td>Age at 1st marriage</td>\n",
       "      <td>[\"linear\", \"log\"]</td>\n",
       "      <td>NaN</td>\n",
       "      <td>NaN</td>\n",
       "      <td>https://www.gapminder.org/data/documentation/g...</td>\n",
       "      <td>population</td>\n",
       "    </tr>\n",
       "    <tr>\n",
       "      <th>2</th>\n",
       "      <td>aged_15_24_employment_rate_percent</td>\n",
       "      <td>NaN</td>\n",
       "      <td>measure</td>\n",
       "      <td>Percentage of total population, age group 15-2...</td>\n",
       "      <td>NaN</td>\n",
       "      <td>NaN</td>\n",
       "      <td>NaN</td>\n",
       "      <td>NaN</td>\n",
       "      <td>Aged 15-24 employment rate (%)</td>\n",
       "      <td>Aged 15-24</td>\n",
       "      <td>Employment rate (%)</td>\n",
       "      <td>[\"linear\", \"log\"]</td>\n",
       "      <td>NaN</td>\n",
       "      <td>NaN</td>\n",
       "      <td>https://www.ilo.org/ilostat/</td>\n",
       "      <td>employment_rate</td>\n",
       "    </tr>\n",
       "    <tr>\n",
       "      <th>3</th>\n",
       "      <td>aged_15_24_unemployment_rate_percent</td>\n",
       "      <td>NaN</td>\n",
       "      <td>measure</td>\n",
       "      <td>Percentage of total population, age group 15-2...</td>\n",
       "      <td>NaN</td>\n",
       "      <td>NaN</td>\n",
       "      <td>NaN</td>\n",
       "      <td>NaN</td>\n",
       "      <td>Aged 15-24 unemployment rate (%)</td>\n",
       "      <td>Aged 15-24</td>\n",
       "      <td>Unemployment rate (%)</td>\n",
       "      <td>[\"linear\", \"log\"]</td>\n",
       "      <td>NaN</td>\n",
       "      <td>NaN</td>\n",
       "      <td>https://www.ilo.org/ilostat/</td>\n",
       "      <td>unemployment</td>\n",
       "    </tr>\n",
       "    <tr>\n",
       "      <th>4</th>\n",
       "      <td>aged_15_64_labour_force_participation_rate_per...</td>\n",
       "      <td>NaN</td>\n",
       "      <td>measure</td>\n",
       "      <td>For age group 15-64, percentage of all labour ...</td>\n",
       "      <td>NaN</td>\n",
       "      <td>NaN</td>\n",
       "      <td>NaN</td>\n",
       "      <td>NaN</td>\n",
       "      <td>Aged 15-64 labour force participation rate (%)</td>\n",
       "      <td>Aged 15-64</td>\n",
       "      <td>Labour force participation rate (%)</td>\n",
       "      <td>[\"linear\", \"log\"]</td>\n",
       "      <td>NaN</td>\n",
       "      <td>NaN</td>\n",
       "      <td>https://www.ilo.org/ilostat/</td>\n",
       "      <td>labour_force_participation</td>\n",
       "    </tr>\n",
       "  </tbody>\n",
       "</table>\n",
       "</div>"
      ],
      "text/plain": [
       "                                             concept color concept_type  \\\n",
       "0                  adults_with_hiv_percent_age_15_49   NaN      measure   \n",
       "1                          age_at_1st_marriage_women   NaN      measure   \n",
       "2                 aged_15_24_employment_rate_percent   NaN      measure   \n",
       "3               aged_15_24_unemployment_rate_percent   NaN      measure   \n",
       "4  aged_15_64_labour_force_participation_rate_per...   NaN      measure   \n",
       "\n",
       "                                         description description_long domain  \\\n",
       "0  The estimated percentage of adults aged 15 to ...              NaN    NaN   \n",
       "1  The mean age, in years, of first marriage for ...              NaN    NaN   \n",
       "2  Percentage of total population, age group 15-2...              NaN    NaN   \n",
       "3  Percentage of total population, age group 15-2...              NaN    NaN   \n",
       "4  For age group 15-64, percentage of all labour ...              NaN    NaN   \n",
       "\n",
       "  drill_up indicator_url                                            name  \\\n",
       "0      NaN           NaN                  Adults with HIV (%, age 15-49)   \n",
       "1      NaN           NaN                     Age at 1st marriage (women)   \n",
       "2      NaN           NaN                  Aged 15-24 employment rate (%)   \n",
       "3      NaN           NaN                Aged 15-24 unemployment rate (%)   \n",
       "4      NaN           NaN  Aged 15-64 labour force participation rate (%)   \n",
       "\n",
       "                     name_catalog                           name_short  \\\n",
       "0  Adults with HIV (%, age 15-49)                      Adults with HIV   \n",
       "1     Age at 1st marriage (women)                  Age at 1st marriage   \n",
       "2                      Aged 15-24                  Employment rate (%)   \n",
       "3                      Aged 15-24                Unemployment rate (%)   \n",
       "4                      Aged 15-64  Labour force participation rate (%)   \n",
       "\n",
       "              scales source source_long  \\\n",
       "0  [\"log\", \"linear\"]    NaN         NaN   \n",
       "1  [\"linear\", \"log\"]    NaN         NaN   \n",
       "2  [\"linear\", \"log\"]    NaN         NaN   \n",
       "3  [\"linear\", \"log\"]    NaN         NaN   \n",
       "4  [\"linear\", \"log\"]    NaN         NaN   \n",
       "\n",
       "                                          source_url  \\\n",
       "0  https://www.gapminder.org/gapminder-world/docu...   \n",
       "1  https://www.gapminder.org/data/documentation/g...   \n",
       "2                       https://www.ilo.org/ilostat/   \n",
       "3                       https://www.ilo.org/ilostat/   \n",
       "4                       https://www.ilo.org/ilostat/   \n",
       "\n",
       "                         tags  \n",
       "0                         hiv  \n",
       "1                  population  \n",
       "2             employment_rate  \n",
       "3                unemployment  \n",
       "4  labour_force_participation  "
      ]
     },
     "execution_count": 18,
     "metadata": {},
     "output_type": "execute_result"
    }
   ],
   "source": [
    "concepts.head()"
   ]
  },
  {
   "cell_type": "code",
   "execution_count": 21,
   "metadata": {},
   "outputs": [
    {
     "ename": "SyntaxError",
     "evalue": "invalid syntax (<ipython-input-21-b2db086d99aa>, line 3)",
     "output_type": "error",
     "traceback": [
      "\u001b[0;36m  File \u001b[0;32m\"<ipython-input-21-b2db086d99aa>\"\u001b[0;36m, line \u001b[0;32m3\u001b[0m\n\u001b[0;31m    'lifespan' : 'https://raw.githubusercontent.com/open-numbers/ddf--gapminder--systema_globalis/master/ddf--datapoints--life_expectancy_years--by--geo--time.csv'\u001b[0m\n\u001b[0m               ^\u001b[0m\n\u001b[0;31mSyntaxError\u001b[0m\u001b[0;31m:\u001b[0m invalid syntax\n"
     ]
    }
   ],
   "source": [
    "csv_dict = {\n",
    "    'income' : 'https://raw.githubusercontent.com/open-numbers/ddf--gapminder--systema_globalis/master/ddf--datapoints--income_per_person_gdppercapita_ppp_inflation_adjusted--by--geo--time.csv'\n",
    "    'lifespan' : 'https://raw.githubusercontent.com/open-numbers/ddf--gapminder--systema_globalis/master/ddf--datapoints--life_expectancy_years--by--geo--time.csv'\n",
    "    'population' : 'https://raw.githubusercontent.com/open-numbers/ddf--gapminder--systema_globalis/master/ddf--datapoints--population_total--by--geo--time.csv'\n",
    "    'entities' : 'https://raw.githubusercontent.com/open-numbers/ddf--gapminder--systema_globalis/master/ddf--entities--geo--country.csv'\n",
    "    'concepts' : 'https://raw.githubusercontent.com/open-numbers/ddf--gapminder--systema_globalis/master/ddf--concepts.csv'\n",
    "}\n",
    "dfs = {}\n",
    "\n",
    "for k in csv_dict:\n",
    "    dfs[k] = pd.read_csv(csv_dict[k])"
   ]
  },
  {
   "cell_type": "markdown",
   "metadata": {
    "colab_type": "text",
    "id": "6HYUytvLT8Kf"
   },
   "source": [
    "## Merge data"
   ]
  },
  {
   "cell_type": "markdown",
   "metadata": {
    "colab_type": "text",
    "id": "dhALZDsh9n9L"
   },
   "source": [
    "https://github.com/pandas-dev/pandas/blob/master/doc/cheatsheet/Pandas_Cheat_Sheet.pdf"
   ]
  },
  {
   "cell_type": "code",
   "execution_count": 16,
   "metadata": {
    "colab": {},
    "colab_type": "code",
    "id": "A-tnI-hK6yDG"
   },
   "outputs": [],
   "source": [
    "#inner merge or innerjoin is the default way to merge data"
   ]
  },
  {
   "cell_type": "markdown",
   "metadata": {
    "colab_type": "text",
    "id": "4OdEr5IFVdF5"
   },
   "source": [
    "## Explore data"
   ]
  },
  {
   "cell_type": "code",
   "execution_count": 0,
   "metadata": {
    "colab": {},
    "colab_type": "code",
    "id": "4IzXea0T64x4"
   },
   "outputs": [],
   "source": []
  },
  {
   "cell_type": "markdown",
   "metadata": {
    "colab_type": "text",
    "id": "hecscpimY6Oz"
   },
   "source": [
    "## Plot visualization"
   ]
  },
  {
   "cell_type": "code",
   "execution_count": 0,
   "metadata": {
    "colab": {},
    "colab_type": "code",
    "id": "_o8RmX2M67ai"
   },
   "outputs": [],
   "source": []
  },
  {
   "cell_type": "markdown",
   "metadata": {
    "colab_type": "text",
    "id": "8OFxenCdhocj"
   },
   "source": [
    "## Analyze outliers"
   ]
  },
  {
   "cell_type": "code",
   "execution_count": 0,
   "metadata": {
    "colab": {},
    "colab_type": "code",
    "id": "D59bn-7k6-Io"
   },
   "outputs": [],
   "source": []
  },
  {
   "cell_type": "markdown",
   "metadata": {
    "colab_type": "text",
    "id": "DNTMMBkVhrGk"
   },
   "source": [
    "## Plot multiple years"
   ]
  },
  {
   "cell_type": "code",
   "execution_count": 0,
   "metadata": {
    "colab": {},
    "colab_type": "code",
    "id": "JkTUmYGF7BQt"
   },
   "outputs": [],
   "source": []
  },
  {
   "cell_type": "markdown",
   "metadata": {
    "colab_type": "text",
    "id": "BB1Ki0v6hxCA"
   },
   "source": [
    "## Point out a story"
   ]
  },
  {
   "cell_type": "code",
   "execution_count": 0,
   "metadata": {
    "colab": {},
    "colab_type": "code",
    "id": "eSgZhD3v7HIe"
   },
   "outputs": [],
   "source": []
  },
  {
   "cell_type": "markdown",
   "metadata": {},
   "source": [
    "# ASSIGNMENT\n",
    "Replicate the lesson code\n",
    "\n",
    "# STRETCH OPTIONS\n",
    "\n",
    "## 1. Animate!\n",
    "- [Making animations work in Google Colaboratory](https://medium.com/lambda-school-machine-learning/making-animations-work-in-google-colaboratory-new-home-for-ml-prototyping-c6147186ae75)\n",
    "- [How to Create Animated Graphs in Python](https://towardsdatascience.com/how-to-create-animated-graphs-in-python-bb619cc2dec1)\n",
    "- [The Ultimate Day of Chicago Bikeshare](https://chrisluedtke.github.io/divvy-data.html) (Lambda School Data Science student)\n",
    "\n",
    "## 2. Work on anything related to your portfolio site / project"
   ]
  }
 ],
 "metadata": {
  "colab": {
   "collapsed_sections": [],
   "name": "LS_DS_224_Sequence_your_narrative.ipynb",
   "provenance": [],
   "version": "0.3.2"
  },
  "kernelspec": {
   "display_name": "Python 3",
   "language": "python",
   "name": "python3"
  },
  "language_info": {
   "codemirror_mode": {
    "name": "ipython",
    "version": 3
   },
   "file_extension": ".py",
   "mimetype": "text/x-python",
   "name": "python",
   "nbconvert_exporter": "python",
   "pygments_lexer": "ipython3",
   "version": "3.7.3"
  }
 },
 "nbformat": 4,
 "nbformat_minor": 1
}
