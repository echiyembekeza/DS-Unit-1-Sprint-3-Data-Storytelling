{
 "cells": [
  {
   "cell_type": "markdown",
   "metadata": {
    "colab_type": "text",
    "id": "JbDHnhet8CWy"
   },
   "source": [
    "_Lambda School Data Science_\n",
    "\n",
    "# Sequence your narrative\n",
    "\n",
    "Today we will create a sequence of visualizations inspired by [Hans Rosling's 200 Countries, 200 Years, 4 Minutes](https://www.youtube.com/watch?v=jbkSRLYSojo).\n",
    "\n",
    "Using this [data from Gapminder](https://github.com/open-numbers/ddf--gapminder--systema_globalis/):\n",
    "- [Income Per Person (GDP Per Capital, Inflation Adjusted) by Geo & Time](https://raw.githubusercontent.com/open-numbers/ddf--gapminder--systema_globalis/master/ddf--datapoints--income_per_person_gdppercapita_ppp_inflation_adjusted--by--geo--time.csv)\n",
    "- [Life Expectancy (in Years) by Geo & Time](https://raw.githubusercontent.com/open-numbers/ddf--gapminder--systema_globalis/master/ddf--datapoints--life_expectancy_years--by--geo--time.csv)\n",
    "- [Population Totals, by Geo & Time](https://raw.githubusercontent.com/open-numbers/ddf--gapminder--systema_globalis/master/ddf--datapoints--population_total--by--geo--time.csv)\n",
    "- [Entities](https://raw.githubusercontent.com/open-numbers/ddf--gapminder--systema_globalis/master/ddf--entities--geo--country.csv)\n",
    "- [Concepts](https://raw.githubusercontent.com/open-numbers/ddf--gapminder--systema_globalis/master/ddf--concepts.csv)"
   ]
  },
  {
   "cell_type": "markdown",
   "metadata": {
    "colab_type": "text",
    "id": "zyPYtsY6HtIK"
   },
   "source": [
    "Objectives\n",
    "- sequence multiple visualizations\n",
    "- combine qualitative anecdotes with quantitative aggregates\n",
    "\n",
    "Links\n",
    "- [Hans Rosling’s TED talks](https://www.ted.com/speakers/hans_rosling)\n",
    "- [Spiralling global temperatures from 1850-2016](https://twitter.com/ed_hawkins/status/729753441459945474)\n",
    "- \"[The Pudding](https://pudding.cool/) explains ideas debated in culture with visual essays.\"\n",
    "- [A Data Point Walks Into a Bar](https://lisacharlotterost.github.io/2016/12/27/datapoint-in-bar/): a thoughtful blog post about emotion and empathy in data storytelling"
   ]
  },
  {
   "cell_type": "markdown",
   "metadata": {
    "colab_type": "text",
    "id": "SxTJBgRAW3jD"
   },
   "source": [
    "## Make a plan\n",
    "\n",
    "#### How to present the data?\n",
    "\n",
    "Variables --> Visual Encodings\n",
    "- Income --> x\n",
    "- Lifespan --> y\n",
    "- Region --> color\n",
    "- Population --> size\n",
    "- Year --> animation frame (alternative: small multiple)\n",
    "- Country --> annotation\n",
    "\n",
    "Qualitative --> Verbal\n",
    "- Editorial / contextual explanation --> audio narration (alternative: text)\n",
    "\n",
    "\n",
    "#### How to structure the data?\n",
    "\n",
    "| Year | Country | Region   | Income | Lifespan | Population |\n",
    "|------|---------|----------|--------|----------|------------|\n",
    "| 1818 | USA     | Americas | ###    | ##       | #          |\n",
    "| 1918 | USA     | Americas | ####   | ###      | ##         |\n",
    "| 2018 | USA     | Americas | #####  | ###      | ###        |\n",
    "| 1818 | China   | Asia     | #      | #        | #          |\n",
    "| 1918 | China   | Asia     | ##     | ##       | ###        |\n",
    "| 2018 | China   | Asia     | ###    | ###      | #####      |\n"
   ]
  },
  {
   "cell_type": "markdown",
   "metadata": {
    "colab_type": "text",
    "id": "3ebEjShbWsIy"
   },
   "source": [
    "## Upgrade Seaborn\n",
    "\n",
    "Make sure you have at least version 0.9.0.\n",
    "\n",
    "In Colab, go to **Restart runtime** after you run the `pip` command."
   ]
  },
  {
   "cell_type": "code",
   "execution_count": 2,
   "metadata": {
    "colab": {},
    "colab_type": "code",
    "id": "4RSxbu7rWr1p"
   },
   "outputs": [],
   "source": [
    "#!pip install --upgrade seaborn\n",
    "#this is not necessary for us right now\n"
   ]
  },
  {
   "cell_type": "code",
   "execution_count": 3,
   "metadata": {
    "colab": {
     "base_uri": "https://localhost:8080/",
     "height": 34
    },
    "colab_type": "code",
    "id": "5sQ0-7JUWyN4",
    "outputId": "f94700f8-5285-462d-a843-c666d159fa68"
   },
   "outputs": [
    {
     "data": {
      "text/plain": [
       "'0.9.0'"
      ]
     },
     "execution_count": 3,
     "metadata": {},
     "output_type": "execute_result"
    }
   ],
   "source": [
    "import seaborn as sns\n",
    "sns.__version__"
   ]
  },
  {
   "cell_type": "markdown",
   "metadata": {
    "colab_type": "text",
    "id": "S2dXWRTFTsgd"
   },
   "source": [
    "## More imports"
   ]
  },
  {
   "cell_type": "code",
   "execution_count": 6,
   "metadata": {
    "colab": {},
    "colab_type": "code",
    "id": "y-TgL_mA8OkF"
   },
   "outputs": [],
   "source": [
    "%matplotlib inline \n",
    "#necessary so that we can show the vis in this notebook\n",
    "import matplotlib.pyplot as plt\n",
    "import numpy as np\n",
    "import pandas as pd"
   ]
  },
  {
   "cell_type": "code",
   "execution_count": 7,
   "metadata": {
    "colab": {},
    "colab_type": "code",
    "id": "vpzEzT2benNK"
   },
   "outputs": [],
   "source": [
    "def start():\n",
    "    options = {\n",
    "        'display': {\n",
    "            'max_columns': None,\n",
    "            'max_colwidth': 25,\n",
    "            'expand_frame_repr': False,  # Don't wrap to multiple pages\n",
    "            'max_rows': 50,\n",
    "            'max_seq_items': 50,         # Max length of printed sequence\n",
    "            'precision': 4,\n",
    "            'show_dimensions': False,\n",
    "            'float_format': lambda x: '%.3f' % x\n",
    "        },\n",
    "        'mode': {\n",
    "            'chained_assignment': None   # Controls SettingWithCopyWarning\n",
    "        }\n",
    "    }\n",
    "\n",
    "    for category, option in options.items():\n",
    "        for op, value in option.items():\n",
    "            pd.set_option(f'{category}.{op}', value)  # Python 3.6+\n",
    "\n",
    "start()"
   ]
  },
  {
   "cell_type": "markdown",
   "metadata": {
    "colab_type": "text",
    "id": "CZGG5prcTxrQ"
   },
   "source": [
    "## Load & look at data"
   ]
  },
  {
   "cell_type": "code",
   "execution_count": 8,
   "metadata": {},
   "outputs": [],
   "source": [
    "#we can create a dictionary with the multiple datasets so that we are able to more easily access them\n",
    "\n",
    "csv_dict = {\n",
    "    'income': 'https://raw.githubusercontent.com/open-numbers/ddf--gapminder--systema_globalis/master/ddf--datapoints--income_per_person_gdppercapita_ppp_inflation_adjusted--by--geo--time.csv',\n",
    "    'lifespan': 'https://raw.githubusercontent.com/open-numbers/ddf--gapminder--systema_globalis/master/ddf--datapoints--life_expectancy_years--by--geo--time.csv',\n",
    "    'population': 'https://raw.githubusercontent.com/open-numbers/ddf--gapminder--systema_globalis/master/ddf--datapoints--population_total--by--geo--time.csv',\n",
    "    'entities': 'https://raw.githubusercontent.com/open-numbers/ddf--gapminder--systema_globalis/master/ddf--entities--geo--country.csv',\n",
    "    'concepts': 'https://raw.githubusercontent.com/open-numbers/ddf--gapminder--systema_globalis/master/ddf--concepts.csv'\n",
    "}\n",
    "\n",
    "dfs = {}\n",
    "\n",
    "for k in csv_dict:\n",
    "  dfs[k] = pd.read_csv(csv_dict[k])\n",
    "\n"
   ]
  },
  {
   "cell_type": "code",
   "execution_count": 11,
   "metadata": {},
   "outputs": [
    {
     "data": {
      "text/plain": [
       "{'income':        geo  time  income_per_person_gdppercapita_ppp_inflation_adjusted\n",
       " 0      afg  1800                       603                             \n",
       " 1      afg  1801                       603                             \n",
       " 2      afg  1802                       603                             \n",
       " 3      afg  1803                       603                             \n",
       " 4      afg  1804                       603                             \n",
       " 5      afg  1805                       603                             \n",
       " 6      afg  1806                       603                             \n",
       " 7      afg  1807                       603                             \n",
       " 8      afg  1808                       603                             \n",
       " 9      afg  1809                       603                             \n",
       " 10     afg  1810                       604                             \n",
       " 11     afg  1811                       604                             \n",
       " 12     afg  1812                       604                             \n",
       " 13     afg  1813                       604                             \n",
       " 14     afg  1814                       604                             \n",
       " 15     afg  1815                       604                             \n",
       " 16     afg  1816                       604                             \n",
       " 17     afg  1817                       604                             \n",
       " 18     afg  1818                       604                             \n",
       " 19     afg  1819                       604                             \n",
       " 20     afg  1820                       604                             \n",
       " 21     afg  1821                       607                             \n",
       " 22     afg  1822                       609                             \n",
       " 23     afg  1823                       611                             \n",
       " 24     afg  1824                       613                             \n",
       " ...    ...   ...                       ...                             \n",
       " 46488  zwe  2016                      1860                             \n",
       " 46489  zwe  2017                      1907                             \n",
       " 46490  zwe  2018                      1952                             \n",
       " 46491  zwe  2019                      2002                             \n",
       " 46492  zwe  2020                      2051                             \n",
       " 46493  zwe  2021                      2101                             \n",
       " 46494  zwe  2022                      2152                             \n",
       " 46495  zwe  2023                      2203                             \n",
       " 46496  zwe  2024                      2255                             \n",
       " 46497  zwe  2025                      2307                             \n",
       " 46498  zwe  2026                      2359                             \n",
       " 46499  zwe  2027                      2412                             \n",
       " 46500  zwe  2028                      2466                             \n",
       " 46501  zwe  2029                      2521                             \n",
       " 46502  zwe  2030                      2577                             \n",
       " 46503  zwe  2031                      2634                             \n",
       " 46504  zwe  2032                      2692                             \n",
       " 46505  zwe  2033                      2752                             \n",
       " 46506  zwe  2034                      2813                             \n",
       " 46507  zwe  2035                      2875                             \n",
       " 46508  zwe  2036                      2939                             \n",
       " 46509  zwe  2037                      3004                             \n",
       " 46510  zwe  2038                      3071                             \n",
       " 46511  zwe  2039                      3139                             \n",
       " 46512  zwe  2040                      3209                             ,\n",
       " 'lifespan':        geo  time  life_expectancy_years\n",
       " 0      abw  1800                 34.420\n",
       " 1      abw  1801                 34.420\n",
       " 2      abw  1802                 34.420\n",
       " 3      abw  1803                 34.420\n",
       " 4      abw  1804                 34.420\n",
       " 5      abw  1805                 34.420\n",
       " 6      abw  1806                 34.420\n",
       " 7      abw  1807                 34.420\n",
       " 8      abw  1808                 34.420\n",
       " 9      abw  1809                 34.420\n",
       " 10     abw  1810                 34.420\n",
       " 11     abw  1811                 34.420\n",
       " 12     abw  1812                 34.420\n",
       " 13     abw  1813                 34.420\n",
       " 14     abw  1814                 34.420\n",
       " 15     abw  1815                 34.420\n",
       " 16     abw  1816                 34.420\n",
       " 17     abw  1817                 34.420\n",
       " 18     abw  1818                 34.420\n",
       " 19     abw  1819                 34.420\n",
       " 20     abw  1820                 34.420\n",
       " 21     abw  1821                 34.420\n",
       " 22     abw  1822                 34.420\n",
       " 23     abw  1823                 34.420\n",
       " 24     abw  1824                 34.420\n",
       " ...    ...   ...                    ...\n",
       " 44345  zwe  1994                 55.780\n",
       " 44346  zwe  1995                 53.690\n",
       " 44347  zwe  1996                 52.230\n",
       " 44348  zwe  1997                 50.750\n",
       " 44349  zwe  1998                 49.120\n",
       " 44350  zwe  1999                 47.810\n",
       " 44351  zwe  2000                 46.690\n",
       " 44352  zwe  2001                 46.200\n",
       " 44353  zwe  2002                 45.580\n",
       " 44354  zwe  2003                 45.340\n",
       " 44355  zwe  2004                 45.060\n",
       " 44356  zwe  2005                 45.310\n",
       " 44357  zwe  2006                 45.700\n",
       " 44358  zwe  2007                 46.380\n",
       " 44359  zwe  2008                 46.710\n",
       " 44360  zwe  2009                 47.550\n",
       " 44361  zwe  2010                 49.570\n",
       " 44362  zwe  2011                 51.900\n",
       " 44363  zwe  2012                 54.060\n",
       " 44364  zwe  2013                 55.590\n",
       " 44365  zwe  2014                 56.990\n",
       " 44366  zwe  2015                 58.270\n",
       " 44367  zwe  2016                 59.270\n",
       " 44368  zwe  2017                 59.800\n",
       " 44369  zwe  2018                 60.180,\n",
       " 'population':        geo  time  population_total\n",
       " 0      afg  1800           3280000\n",
       " 1      afg  1801           3280000\n",
       " 2      afg  1802           3280000\n",
       " 3      afg  1803           3280000\n",
       " 4      afg  1804           3280000\n",
       " 5      afg  1805           3280000\n",
       " 6      afg  1806           3280000\n",
       " 7      afg  1807           3280000\n",
       " 8      afg  1808           3280000\n",
       " 9      afg  1809           3280000\n",
       " 10     afg  1810           3280000\n",
       " 11     afg  1811           3280779\n",
       " 12     afg  1812           3282342\n",
       " 13     afg  1813           3284692\n",
       " 14     afg  1814           3287834\n",
       " 15     afg  1815           3291770\n",
       " 16     afg  1816           3296506\n",
       " 17     afg  1817           3302044\n",
       " 18     afg  1818           3308390\n",
       " 19     afg  1819           3315547\n",
       " 20     afg  1820           3323519\n",
       " 21     afg  1821           3332311\n",
       " 22     afg  1822           3341926\n",
       " 23     afg  1823           3352368\n",
       " 24     afg  1824           3363642\n",
       " ...    ...   ...               ...\n",
       " 59272  zwe  2076          37609317\n",
       " 59273  zwe  2077          37824533\n",
       " 59274  zwe  2078          38032210\n",
       " 59275  zwe  2079          38232406\n",
       " 59276  zwe  2080          38425112\n",
       " 59277  zwe  2081          38610322\n",
       " 59278  zwe  2082          38787965\n",
       " 59279  zwe  2083          38957958\n",
       " 59280  zwe  2084          39120196\n",
       " 59281  zwe  2085          39274605\n",
       " 59282  zwe  2086          39421192\n",
       " 59283  zwe  2087          39559970\n",
       " 59284  zwe  2088          39691002\n",
       " 59285  zwe  2089          39814374\n",
       " 59286  zwe  2090          39930170\n",
       " 59287  zwe  2091          40038459\n",
       " 59288  zwe  2092          40139287\n",
       " 59289  zwe  2093          40232710\n",
       " 59290  zwe  2094          40318796\n",
       " 59291  zwe  2095          40397615\n",
       " 59292  zwe  2096          40469281\n",
       " 59293  zwe  2097          40533896\n",
       " 59294  zwe  2098          40591626\n",
       " 59295  zwe  2099          40642628\n",
       " 59296  zwe  2100          40687107,\n",
       " 'entities':                country alt_5             alternative_1             alternative_2             alternative_3       alternative_4_cdiac                      arb1 arb2 arb3 arb4 arb5 arb6 g77_and_oecd_countries            gapminder_list             god_id  gwid        income_groups  is--country iso3166_1_alpha2 iso3166_1_alpha3  iso3166_1_numeric iso3166_2  landlocked  latitude  longitude main_religion_2008                      name                 pandg  un_state unicode_region_subtag           upper_case_name world_4region             world_6region\n",
       " 0                 abkh   NaN                       NaN                       NaN                       NaN                       NaN                       NaN  NaN  NaN  NaN  NaN  NaN                 others                  Abkhazia              GE-AB    i0                  NaN         True              NaN              NaN                nan       NaN         NaN       nan        nan                NaN                  Abkhazia                   NaN     False                   NaN                       NaN        europe       europe_central_asia\n",
       " 1                  abw   NaN                       NaN                       NaN                       NaN                     Aruba                       NaN  NaN  NaN  NaN  NaN  NaN                 others                     Aruba                 AW   i12          high_income         True               AW              ABW            533.000       NaN   coastline    12.500    -69.967          christian                     Aruba                   NaN     False                    AW                     ARUBA      americas                   america\n",
       " 2                  afg   NaN  Islamic Republic of A...                       NaN                       NaN               Afghanistan                       NaN  NaN  NaN  NaN  NaN  NaN                    g77               Afghanistan                 AF    i1           low_income         True               AF              AFG              4.000       NaN  landlocked    33.000     66.000             muslim               Afghanistan           AFGHANISTAN      True                    AF               AFGHANISTAN          asia                south_asia\n",
       " 3                  ago   NaN                       NaN                       NaN                       NaN                    Angola                       NaN  NaN  NaN  NaN  NaN  NaN                    g77                    Angola                 AO    i7  upper_middle_income         True               AO              AGO             24.000       NaN   coastline   -12.500     18.500          christian                    Angola                ANGOLA      True                    AO                    ANGOLA        africa        sub_saharan_africa\n",
       " 4                  aia   NaN                       NaN                       NaN                       NaN                       NaN                       NaN  NaN  NaN  NaN  NaN  NaN                 others                  Anguilla                 AI    i8                  NaN         True               AI              AIA            660.000       NaN   coastline    18.217    -63.050          christian                  Anguilla                   NaN     False                    AI                  ANGUILLA      americas                   america\n",
       " 5            akr_a_dhe   NaN                       NaN                       NaN                       NaN                       NaN                       NaN  NaN  NaN  NaN  NaN  NaN                 others     Akrotiri and Dhekelia  Akrotiri_Dhekelia    i2                  NaN         True              NaN              NaN                nan       NaN   coastline       nan        nan                NaN     Akrotiri and Dhekelia                   NaN     False                   NaN                       NaN        europe       europe_central_asia\n",
       " 6                  ala   NaN                    √Öland                       NaN                       NaN                       NaN                       NaN  NaN  NaN  NaN  NaN  NaN                 others                     Åland                 AX  i258                  NaN         True               AX              ALA            248.000       NaN   coastline    60.250     20.000                NaN                     Åland                   NaN     False                    AX            AALAND ISLANDS        europe       europe_central_asia\n",
       " 7                  alb   NaN                       NaN                       NaN                       NaN                   Albania                       NaN  NaN  NaN  NaN  NaN  NaN                 others                   Albania                 AL    i3  upper_middle_income         True               AL              ALB              8.000       NaN   coastline    41.000     20.000             muslim                   Albania               ALBANIA      True                    AL                   ALBANIA        europe       europe_central_asia\n",
       " 8                  and   NaN                       NaN                       NaN                       NaN                       NaN                       NaN  NaN  NaN  NaN  NaN  NaN                 others                   Andorra                 AD    i6          high_income         True               AD              AND             20.000       NaN  landlocked    42.508      1.521          christian                   Andorra                   NaN      True                    AD                   ANDORRA        europe       europe_central_asia\n",
       " 9                  ant   NaN            Neth. Antilles                       NaN                       NaN       Netherland Antilles                       NaN  NaN  NaN  NaN  NaN  NaN                 others      Netherlands Antilles                 AN  i157                  NaN         True              NaN              NaN                nan       NaN   coastline       nan        nan                NaN      Netherlands Antilles                   NaN     False                   NaN      NETHERLANDS ANTILLES      americas                   america\n",
       " 10                 are   NaN                       UAE                       NaN                       NaN      United Arab Emirates                       NaN  NaN  NaN  NaN  NaN  NaN                    g77      United Arab Emirates                 AE  i238          high_income         True               AE              ARE            784.000       NaN   coastline    23.750     54.500             muslim      United Arab Emirates  UNITED ARAB EMIRATES      True                    AE      UNITED ARAB EMIRATES          asia  middle_east_north_africa\n",
       " 11                 arg   NaN                       NaN                       NaN                       NaN                 Argentina                       NaN  NaN  NaN  NaN  NaN  NaN                    g77                 Argentina                 AR   i10  upper_middle_income         True               AR              ARG             32.000       NaN   coastline   -34.000    -64.000          christian                 Argentina             ARGENTINA      True                    AR                 ARGENTINA      americas                   america\n",
       " 12                 arm   NaN                       NaN                       NaN                       NaN                   Armenia                       NaN  NaN  NaN  NaN  NaN  NaN                 others                   Armenia                 AM   i11  lower_middle_income         True               AM              ARM             51.000       NaN  landlocked    40.250     45.000          christian                   Armenia               ARMENIA      True                    AM                   ARMENIA        europe       europe_central_asia\n",
       " 13                 asm   NaN                       NaN                       NaN                       NaN                       NaN                       NaN  NaN  NaN  NaN  NaN  NaN                 others            American Samoa                 AS    i5  upper_middle_income         True               AS              ASM             16.000       NaN   coastline   -11.056   -171.082          christian            American Samoa                   NaN     False                    AS            AMERICAN SAMOA          asia         east_asia_pacific\n",
       " 14                 ata   NaN                       NaN                       NaN                       NaN                       NaN                       NaN  NaN  NaN  NaN  NaN  NaN                    NaN                       NaN                 AQ   NaN                  NaN         True               AQ              ATA             10.000       NaN         NaN   -90.000      0.000                NaN                Antarctica                   NaN     False                    AQ                       NaN        europe                       NaN\n",
       " 15                 atg   NaN                       NaN                       NaN                       NaN         Antigua & Barbuda                       NaN  NaN  NaN  NaN  NaN  NaN                    g77       Antigua and Barbuda                 AG    i9          high_income         True               AG              ATG             28.000       NaN   coastline    17.050    -61.800          christian       Antigua and Barbuda                   NaN      True                    AG       ANTIGUA AND BARBUDA      americas                   america\n",
       " 16                 aus   NaN                       NaN                       NaN                       NaN                 Australia                       NaN  NaN  NaN  NaN  NaN  NaN                   oecd                 Australia                 AU   i13          high_income         True               AU              AUS             36.000       NaN   coastline   -25.000    135.000          christian                 Australia             AUSTRALIA      True                    AU                 AUSTRALIA          asia         east_asia_pacific\n",
       " 17                 aut   NaN                       NaN                       NaN                       NaN                   Austria                       NaN  NaN  NaN  NaN  NaN  NaN                   oecd                   Austria                 AT   i14          high_income         True               AT              AUT             40.000       NaN  landlocked    47.333     13.333          christian                   Austria               AUSTRIA      True                    AT                   AUSTRIA        europe       europe_central_asia\n",
       " 18                 aze   NaN                       NaN                       NaN                       NaN                Azerbaijan                       NaN  NaN  NaN  NaN  NaN  NaN                 others                Azerbaijan                 AZ   i15  upper_middle_income         True               AZ              AZE             31.000       NaN  landlocked    40.500     47.500             muslim                Azerbaijan            AZERBAIJAN      True                    AZ                AZERBAIJAN        europe       europe_central_asia\n",
       " 19                 bdi   NaN                       NaN                       NaN                       NaN                   Burundi                       NaN  NaN  NaN  NaN  NaN  NaN                    g77                   Burundi                 BI   i34           low_income         True               BI              BDI            108.000       NaN  landlocked    -3.500     30.000          christian                   Burundi               BURUNDI      True                    BI                   BURUNDI        africa        sub_saharan_africa\n",
       " 20                 bel   NaN                       NaN                       NaN                       NaN                   Belgium                       NaN  NaN  NaN  NaN  NaN  NaN                   oecd                   Belgium                 BE   i21          high_income         True               BE              BEL             56.000       NaN   coastline    50.750      4.500          christian                   Belgium               BELGIUM      True                    BE                   BELGIUM        europe       europe_central_asia\n",
       " 21                 ben   NaN                       NaN                       NaN                       NaN                     Benin                       NaN  NaN  NaN  NaN  NaN  NaN                    g77                     Benin                 BJ   i23           low_income         True               BJ              BEN            204.000       NaN   coastline     9.500      2.250                NaN                     Benin                 BENIN      True                    BJ                     BENIN        africa        sub_saharan_africa\n",
       " 22                 bfa   NaN                       NaN                       NaN                       NaN              Burkina Faso              Burkina_Faso  NaN  NaN  NaN  NaN  NaN                    g77              Burkina Faso                 BF   i33           low_income         True               BF              BFA            854.000       NaN  landlocked    12.500     -1.667             muslim              Burkina Faso          BURKINA FASO      True                    BF              BURKINA FASO        africa        sub_saharan_africa\n",
       " 23                 bgd   NaN                       NaN                       NaN                       NaN                Bangladesh                       NaN  NaN  NaN  NaN  NaN  NaN                    g77                Bangladesh                 BD   i18           low_income         True               BD              BGD             50.000       NaN   coastline    24.000     90.000             muslim                Bangladesh                   NaN      True                    BD                BANGLADESH          asia                south_asia\n",
       " 24                 bgr   NaN                       NaN                       NaN                       NaN                  Bulgaria                       NaN  NaN  NaN  NaN  NaN  NaN                 others                  Bulgaria                 BG   i32  upper_middle_income         True               BG              BGR            100.000       NaN   coastline    42.667     25.250          christian                  Bulgaria              BULGARIA      True                    BG                  BULGARIA        europe       europe_central_asia\n",
       " ..                 ...   ...                       ...                       ...                       ...                       ...                       ...  ...  ...  ...  ...  ...                    ...                       ...                ...   ...                  ...          ...              ...              ...                ...       ...         ...       ...        ...                ...                       ...                   ...       ...                   ...                       ...           ...                       ...\n",
       " 248                tuv   NaN                       NaN                       NaN                       NaN                       NaN                       NaN  NaN  NaN  NaN  NaN  NaN                 others                    Tuvalu                 TV  i235  upper_middle_income         True               TV              TUV            798.000       NaN   coastline    -8.517    179.145          christian                    Tuvalu                   NaN      True                    TV                    TUVALU          asia         east_asia_pacific\n",
       " 249                twn   NaN  Taiwan Province of China  China, Taiwan Provinc...                       NaN                    Taiwan                       NaN  NaN  NaN  NaN  NaN  NaN                 others                    Taiwan                 TW  i221                  NaN         True               TW              TWN            158.000       NaN   coastline    24.000    121.000  eastern_religions                    Taiwan                TAIWAN     False                    TW                    TAIWAN          asia         east_asia_pacific\n",
       " 250                tza   NaN      Tanzania, U. Rep. of  Tanzania (United Repu...  United Republic of Ta...  United Republic Of Ta...                       NaN  NaN  NaN  NaN  NaN  NaN                    g77                  Tanzania                 TZ  i223           low_income         True               TZ              TZA            834.000       NaN   coastline    -6.000     35.000          christian                  Tanzania              TANZANIA      True                    TZ  TANZANIA, UNITED REPU...        africa        sub_saharan_africa\n",
       " 251                uga   NaN                       NaN                       NaN                       NaN                    Uganda                       NaN  NaN  NaN  NaN  NaN  NaN                    g77                    Uganda                 UG  i236           low_income         True               UG              UGA            800.000       NaN  landlocked     1.250     32.500          christian                    Uganda                UGANDA      True                    UG                    UGANDA        africa        sub_saharan_africa\n",
       " 252                ukr   NaN                       NaN                       NaN                       NaN                   Ukraine                       NaN  NaN  NaN  NaN  NaN  NaN                 others                   Ukraine                 UA  i237  lower_middle_income         True               UA              UKR            804.000       NaN   coastline    49.000     32.000          christian                   Ukraine               UKRAINE      True                    UA                   UKRAINE        europe       europe_central_asia\n",
       " 253                ury   NaN                       NaN                       NaN                       NaN                   Uruguay                       NaN  NaN  NaN  NaN  NaN  NaN                    g77                   Uruguay                 UY  i241          high_income         True               UY              URY            858.000       NaN   coastline   -33.000    -56.000          christian                   Uruguay               URUGUAY      True                    UY                   URUGUAY      americas                   america\n",
       " 254                usa  U.S.  United States of America                       USA                    U.S.A.  United States Of America                       NaN  NaN  NaN  NaN  NaN  NaN                   oecd             United States                 US  i240          high_income         True               US              USA            840.000       NaN   coastline    39.760    -98.500          christian             United States         UNITED STATES      True                    US             UNITED STATES      americas                   america\n",
       " 255  usa_minor_out_isl   NaN                       NaN                       NaN                       NaN                       NaN                       NaN  NaN  NaN  NaN  NaN  NaN                    NaN                       NaN                 UM   NaN                  NaN         True               UM              UMI            581.000     US-UM         NaN       nan        nan                NaN  US Minor Outlying Isl...                   NaN     False                    UM                       NaN      americas                       NaN\n",
       " 256               ussr   NaN              Soviet Union                       NaN                  U.S.S.R.                       USS                       NaN  NaN  NaN  NaN  NaN  NaN                 others                      USSR               USSR  i242                  NaN         True              NaN              NaN                nan       NaN   coastline       nan        nan                NaN                      USSR                   NaN     False                   NaN                       NaN        europe       europe_central_asia\n",
       " 257                uzb   NaN                       NaN                       NaN                       NaN                Uzbekistan                       NaN  NaN  NaN  NaN  NaN  NaN                 others                Uzbekistan                 UZ  i243  lower_middle_income         True               UZ              UZB            860.000       NaN  landlocked    41.667     63.833             muslim                Uzbekistan            UZBEKISTAN      True                    UZ                UZBEKISTAN          asia       europe_central_asia\n",
       " 258                vct   NaN  St. Vincent and the G...  St Vincent & the Gren...        St. Vincent and G.  St. Vincent & The Gre...  Saint Vincent and the...  NaN  NaN  NaN  NaN  NaN                    g77  Saint Vincent and the...                 VC  i191  upper_middle_income         True               VC              VCT            670.000       NaN   coastline    13.083    -61.200          christian  St. Vincent and the G...                   NaN      True                    VC  SAINT VINCENT AND THE...      americas                   america\n",
       " 259                ven   NaN             Venezuela, RB  Venezuela (Bolivarian...  Venezuela (Bolivarian...                 Venezuela                       NaN  NaN  NaN  NaN  NaN  NaN                    g77                 Venezuela                 VE  i246  upper_middle_income         True               VE              VEN            862.000       NaN   coastline     8.000    -66.000          christian                 Venezuela             VENEZUELA      True                    VE                 VENEZUELA      americas                   america\n",
       " 260                vgb   NaN                       NaN                       NaN                       NaN    British Virgin Islands                       NaN  NaN  NaN  NaN  NaN  NaN                 others    British Virgin Islands                 VG   i30                  NaN         True               VG              VGB             92.000       NaN   coastline    18.500    -64.500          christian    British Virgin Islands                   NaN     False                    VG  VIRGIN ISLANDS (BRITISH)      americas                   america\n",
       " 261                vir   NaN  United States Virgin ...                       NaN                       NaN                       NaN                       NaN  NaN  NaN  NaN  NaN  NaN                 others     Virgin Islands (U.S.)                 VI  i251          high_income         True               VI              VIR            850.000       NaN   coastline    18.348    -64.983          christian     Virgin Islands (U.S.)                   NaN     False                    VI     VIRGIN ISLANDS (U.S.)      americas                   america\n",
       " 262                vnm   NaN                  Viet Nam                       NaN                       NaN                  Viet Nam                       NaN  NaN  NaN  NaN  NaN  NaN                    g77                   Vietnam                 VN  i250  lower_middle_income         True               VN              VNM            704.000       NaN   coastline    16.167    107.833  eastern_religions                   Vietnam               VIETNAM      True                    VN                  VIET NAM          asia         east_asia_pacific\n",
       " 263                vut   NaN                       NaN                       NaN                       NaN                   Vanuatu                       NaN  NaN  NaN  NaN  NaN  NaN                    g77                   Vanuatu                 VU  i245  lower_middle_income         True               VU              VUT            548.000       NaN   coastline   -16.000    167.000          christian                   Vanuatu                   NaN      True                    VU                   VANUATU          asia         east_asia_pacific\n",
       " 264                wlf   NaN         Wallis and Futuna  Wallis and Futuna Isl...                       NaN                       NaN                       NaN  NaN  NaN  NaN  NaN  NaN                 others          Wallis et Futuna                 WF  i244                  NaN         True               WF              WLF            876.000       NaN   coastline   -13.300   -176.200          christian          Wallis et Futuna                   NaN     False                    WF  WALLIS AND FUTUNA ISL...          asia         east_asia_pacific\n",
       " 265                wsm   NaN           Samoa (Western)                       NaN                       NaN                     Samoa                       NaN  NaN  NaN  NaN  NaN  NaN                    g77                     Samoa                 WS  i193  lower_middle_income         True               WS              WSM            882.000       NaN   coastline   -13.800   -172.133          christian                     Samoa                   NaN      True                    WS                     SAMOA          asia         east_asia_pacific\n",
       " 266                yem   NaN            Yemen Republic                       NaN                       NaN                     Yemen                       NaN  NaN  NaN  NaN  NaN  NaN                    g77               Yemen, Rep.                 YE  i254  lower_middle_income         True               YE              YEM            887.000       NaN   coastline    15.500     47.500             muslim                     Yemen                 YEMEN      True                    YE                     YEMEN          asia  middle_east_north_africa\n",
       " 267          yem_north   NaN                       NaN                       NaN                       NaN                       NaN                       NaN  NaN  NaN  NaN  NaN  NaN                 others  Yemen Arab Republic (...        North_Yemen  i252                  NaN         True              NaN              NaN                nan       NaN   coastline       nan        nan                NaN      North Yemen (former)                   NaN     False                   NaN              FORMER YEMEN          asia  middle_east_north_africa\n",
       " 268          yem_south   NaN                       NaN                       NaN                       NaN                       NaN                       NaN  NaN  NaN  NaN  NaN  NaN                 others  Yemen Democratic (For...        South_Yemen  i253                  NaN         True              NaN              NaN                nan       NaN   coastline       nan        nan                NaN      South Yemen (former)                   NaN     False                   NaN   FORMER DEMOCRATIC YEMEN          asia  middle_east_north_africa\n",
       " 269                yug   NaN              Yugoslav SFR                       NaN                       NaN                Yugoslavia                       NaN  NaN  NaN  NaN  NaN  NaN                 others                Yugoslavia         Yugoslavia  i255                  NaN         True              NaN              NaN                nan       NaN   coastline       nan        nan                NaN                Yugoslavia                   NaN     False                   NaN  YUGOSLAVIA (FORMER SO...        europe       europe_central_asia\n",
       " 270                zaf   NaN     South Africa Republic                       NaN                       NaN              South Africa              South_Africa  NaN  NaN  NaN  NaN  NaN                    g77              South Africa                 ZA  i209  upper_middle_income         True               ZA              ZAF            710.000       NaN   coastline   -29.000     24.000          christian              South Africa          SOUTH AFRICA      True                    ZA              SOUTH AFRICA        africa        sub_saharan_africa\n",
       " 271                zmb   NaN                       NaN                       NaN                       NaN                    Zambia                       NaN  NaN  NaN  NaN  NaN  NaN                    g77                    Zambia                 ZM  i256  lower_middle_income         True               ZM              ZMB            894.000       NaN  landlocked   -14.333     28.500          christian                    Zambia                ZAMBIA      True                    ZM                    ZAMBIA        africa        sub_saharan_africa\n",
       " 272                zwe   NaN                       NaN                       NaN                       NaN                  Zimbabwe                       NaN  NaN  NaN  NaN  NaN  NaN                    g77                  Zimbabwe                 ZW  i257           low_income         True               ZW              ZWE            716.000       NaN  landlocked   -19.000     29.750          christian                  Zimbabwe              ZIMBABWE      True                    ZW                  ZIMBABWE        africa        sub_saharan_africa,\n",
       " 'concepts':                       concept                     color concept_type               description description_long domain drill_up             indicator_url                      name              name_catalog                name_short             scales source source_long                source_url                      tags\n",
       " 0    adults_with_hiv_perce...                       NaN      measure  The estimated percent...              NaN    NaN      NaN                       NaN  Adults with HIV (%, a...  Adults with HIV (%, a...           Adults with HIV  [\"log\", \"linear\"]    NaN         NaN  https://www.gapminder...                       hiv\n",
       " 1    age_at_1st_marriage_w...                       NaN      measure  The mean age, in year...              NaN    NaN      NaN                       NaN  Age at 1st marriage (...  Age at 1st marriage (...       Age at 1st marriage  [\"linear\", \"log\"]    NaN         NaN  https://www.gapminder...                population\n",
       " 2    aged_15_24_employment...                       NaN      measure  Percentage of total p...              NaN    NaN      NaN                       NaN  Aged 15-24 employment...                Aged 15-24       Employment rate (%)  [\"linear\", \"log\"]    NaN         NaN  https://www.ilo.org/i...           employment_rate\n",
       " 3    aged_15_24_unemployme...                       NaN      measure  Percentage of total p...              NaN    NaN      NaN                       NaN  Aged 15-24 unemployme...                Aged 15-24     Unemployment rate (%)  [\"linear\", \"log\"]    NaN         NaN  https://www.ilo.org/i...              unemployment\n",
       " 4    aged_15_64_labour_for...                       NaN      measure  For age group 15-64, ...              NaN    NaN      NaN                       NaN  Aged 15-64 labour for...                Aged 15-64  Labour force particip...  [\"linear\", \"log\"]    NaN         NaN  https://www.ilo.org/i...  labour_force_particip...\n",
       " 5    aged_15plus_employmen...                       NaN      measure  Percentage of total p...              NaN    NaN      NaN                       NaN  Aged 15+ employment r...                  Aged 15+       Employment rate (%)  [\"linear\", \"log\"]    NaN         NaN  https://www.ilo.org/i...           employment_rate\n",
       " 6    aged_15plus_labour_fo...                       NaN      measure  For age group 15+, pe...              NaN    NaN      NaN                       NaN  Aged 15+ labour force...                  Aged 15+  Labour force particip...  [\"linear\", \"log\"]    NaN         NaN  https://www.ilo.org/i...  labour_force_particip...\n",
       " 7    aged_15plus_unemploym...                       NaN      measure  Percentage of total p...              NaN    NaN      NaN                       NaN  Aged 15+ unemployment...                  Aged 15+     Unemployment rate (%)  [\"linear\", \"log\"]    NaN         NaN  https://www.ilo.org/i...              unemployment\n",
       " 8    aged_25_54_labour_for...                       NaN      measure  For age group 25-54, ...              NaN    NaN      NaN                       NaN  Aged 25-54 labour for...                Aged 25-54  Labour force particip...  [\"linear\", \"log\"]    NaN         NaN  https://www.ilo.org/i...  labour_force_particip...\n",
       " 9    aged_25_54_unemployme...                       NaN      measure  Percentage of total p...              NaN    NaN      NaN                       NaN  Aged 25-54 unemployme...                Aged 25-54     Unemployment rate (%)  [\"linear\", \"log\"]    NaN         NaN  https://www.ilo.org/i...              unemployment\n",
       " 10   aged_55_64_unemployme...                       NaN      measure  Percentage of total p...              NaN    NaN      NaN                       NaN  Aged 55-64 unemployme...                Aged 55-64     Unemployment rate (%)  [\"linear\", \"log\"]    NaN         NaN  https://www.ilo.org/i...              unemployment\n",
       " 11   aged_65plus_labour_fo...                       NaN      measure  For age group 65+, pe...              NaN    NaN      NaN                       NaN  Aged 65+ labour force...                  Aged 65+  Labour force particip...  [\"linear\", \"log\"]    NaN         NaN  https://www.ilo.org/i...  labour_force_particip...\n",
       " 12   aged_65plus_unemploym...                       NaN      measure  Percentage of total p...              NaN    NaN      NaN                       NaN  Aged 65+ unemployment...                  Aged 55+     Unemployment rate (%)  [\"linear\", \"log\"]    NaN         NaN  https://www.ilo.org/i...              unemployment\n",
       " 13   agricultural_land_per...                       NaN      measure  Agricultural land ref...              NaN    NaN      NaN                       NaN  Agricultural land (% ...         Agricultural land         Agricultural land  [\"linear\", \"log\"]    NaN         NaN  https://data.worldban...                 geography\n",
       " 14   agricultural_water_wi...                       NaN      measure  Percentage of the tot...              NaN    NaN      NaN                       NaN  Agricultural water wi...  Agricultural water wi...  Agricultural water wi...  [\"linear\", \"log\"]    NaN         NaN  http://www.fao.org/nr...         environment_water\n",
       " 15   agriculture_percent_o...                       NaN      measure  Agriculture correspon...              NaN    NaN      NaN                       NaN    Agriculture (% of GDP)               Agriculture               Agriculture  [\"linear\", \"log\"]    NaN         NaN  https://data.worldban...                   sectors\n",
       " 16   agriculture_workers_p...                       NaN      measure  Percentage of all emp...              NaN    NaN      NaN                       NaN  Agriculture workers (...       Agriculture workers       Agriculture workers  [\"linear\", \"log\"]    NaN         NaN  https://www.ilo.org/i...      employment_by_sector\n",
       " 17          aid_given_2007_us                       NaN      measure  Total amount of alloc...              NaN    NaN      NaN                       NaN      Aid given (2007 US$)                 Aid given                 Aid given  [\"linear\", \"log\"]    NaN         NaN   https://stats.oecd.org/                 aid_given\n",
       " 18   aid_given_per_person_...                       NaN      measure  Total amount of offic...              NaN    NaN      NaN                       NaN  Aid given per person ...      Aid given per person      Aid given per person  [\"linear\", \"log\"]    NaN         NaN   https://stats.oecd.org/                 aid_given\n",
       " 19   aid_given_percent_of_gni                       NaN      measure  Percentage of the gro...              NaN    NaN      NaN                       NaN      Aid given (% of GNI)      Aid given (% of GNI)      Aid given (% of GNI)  [\"linear\", \"log\"]    NaN         NaN   https://stats.oecd.org/                 aid_given\n",
       " 20   aid_received_per_pers...                       NaN      measure  Net official developm...              NaN    NaN      NaN                       NaN  Aid received per pers...   Aid received per person   Aid received per person  [\"log\", \"linear\"]    NaN         NaN  https://data.worldban...              aid_received\n",
       " 21   aid_received_percent_...                       NaN      measure  Net official developm...              NaN    NaN      NaN                       NaN   Aid received (% of GNI)   Aid received (% of GNI)   Aid received (% of GNI)  [\"linear\", \"log\"]    NaN         NaN  https://data.worldban...              aid_received\n",
       " 22   aid_received_total_us...                       NaN      measure  Net official developm...              NaN    NaN      NaN                       NaN  Aid received, total (...       Aid received, total       Aid received, total  [\"linear\", \"log\"]    NaN         NaN  https://data.worldban...              aid_received\n",
       " 23   alcohol_consumption_p...                       NaN      measure  Recorded plus estimat...              NaN    NaN      NaN                       NaN  Alcohol consumption p...       Alcohol consumption       Alcohol consumption  [\"linear\", \"log\"]    NaN         NaN  https://www.who.int/g...              risk_factors\n",
       " 24   all_causes_deaths_in_...                       NaN      measure  All causes deaths in ...              NaN    NaN      NaN                       NaN  All causes deaths in ...     All causes ___ births  All causes deaths in ...  [\"log\", \"linear\"]    NaN         NaN  https://www.who.int/h...    causes_of_child_deaths\n",
       " ..                        ...                       ...          ...                       ...              ...    ...      ...                       ...                       ...                       ...                       ...                ...    ...         ...                       ...                       ...\n",
       " 565  traffic_mortality_15_...                       NaN      measure  Mortality among perso...              NaN    NaN      NaN                       NaN  Traffic mortality 15-...  Traffic mortality 15-...   Traffic mortality 15-29  [\"linear\", \"log\"]    NaN         NaN  https://www.who.int/g...  injury_deaths_by_gend...\n",
       " 566  traffic_mortality_30_...                       NaN      measure  Mortality among perso...              NaN    NaN      NaN                       NaN  Traffic mortality 30-...  Traffic mortality 30-...   Traffic mortality 30-44  [\"linear\", \"log\"]    NaN         NaN  https://www.who.int/g...  injury_deaths_by_gend...\n",
       " 567  traffic_mortality_45_...                       NaN      measure  Mortality among perso...              NaN    NaN      NaN                       NaN  Traffic mortality 45-...  Traffic mortality 45-...   Traffic mortality 45-59  [\"linear\", \"log\"]    NaN         NaN  https://www.who.int/g...  injury_deaths_by_gend...\n",
       " 568  traffic_mortality_60p...                       NaN      measure  Mortality among perso...              NaN    NaN      NaN                       NaN  Traffic mortality 60+...  Traffic mortality 60+...     Traffic mortality 60+  [\"linear\", \"log\"]    NaN         NaN  https://www.who.int/g...  injury_deaths_by_gend...\n",
       " 569  traffic_mortality_chi...                       NaN      measure  Mortality among child...              NaN    NaN      NaN                       NaN  Traffic mortality 0-1...  Traffic mortality 0-1...    Traffic mortality 0-14  [\"linear\", \"log\"]    NaN         NaN  https://www.who.int/g...  injury_deaths_by_gend...\n",
       " 570      traffic_total_deaths                       NaN      measure  Total number of estim...              NaN    NaN      NaN                       NaN    Traffic deaths (total)            Traffic deaths            Traffic deaths  [\"linear\", \"log\"]    NaN         NaN  https://www.who.int/g...                   traffic\n",
       " 571  tsunami_affected_annu...                       NaN      measure  Total number of peopl...              NaN    NaN      NaN                       NaN  Tsunami affected annu...          Tsunami affected          Tsunami affected  [\"linear\", \"log\"]    NaN         NaN  https://www.emdat.be/...                 disasters\n",
       " 572  tsunami_deaths_annual...                       NaN      measure  Number of people kill...              NaN    NaN      NaN                       NaN  Tsunami deaths annual...            Tsunami deaths            Tsunami deaths  [\"linear\", \"log\"]    NaN         NaN  https://www.emdat.be/...                 disasters\n",
       " 573                  un_state                       NaN      boolean                       NaN              NaN    NaN      NaN  https://github.com/op...  UN member states and ...                       NaN                       NaN                NaN    NaN         NaN                       NaN                     _none\n",
       " 574  under_five_mortality_...                       NaN      measure  Death of children und...              NaN    NaN      NaN                       NaN  Under-five mortality ...             u5mr from CME      Under-five mortality  [\"log\", \"linear\"]    NaN         NaN  https://www.childmort...  alternative_child_mor...\n",
       " 575  under_five_mortality_...                       NaN      measure  Death of children und...              NaN    NaN      NaN                       NaN  Under-five mortality ...            u5mr from IHME      Under-five mortality  [\"log\", \"linear\"]    NaN         NaN  http://www.healthmetr...  alternative_child_mor...\n",
       " 576      underweight_children                       NaN      measure  Percent of children u...              NaN    NaN      NaN                       NaN      Underweight children      Underweight children      Underweight children  [\"linear\", \"log\"]    NaN         NaN  https://data.worldban...                    health\n",
       " 577     unicode_region_subtag                       NaN       string                       NaN              NaN    NaN      NaN  http://www.unicode.or...  Unicode CLDR Region s...                       NaN                       NaN                NaN    NaN         NaN                       NaN                     _none\n",
       " 578           upper_case_name                       NaN       string                       NaN              NaN    NaN      NaN                       NaN           Upper Case Name                       NaN                       NaN                NaN    NaN         NaN                       NaN                     _none\n",
       " 579          urban_population                       NaN      measure  Urban population refe...              NaN    NaN      NaN                       NaN          Urban population          Urban population          Urban population  [\"linear\", \"log\"]    NaN         NaN  https://data.worldban...              urbanization\n",
       " 580  urban_population_grow...                       NaN      measure  Urban population refe...              NaN    NaN      NaN                       NaN  Urban population grow...   Urban population growth   Urban population growth  [\"linear\", \"log\"]    NaN         NaN  https://data.worldban...              urbanization\n",
       " 581  urban_population_perc...                       NaN      measure  Urban population refe...              NaN    NaN      NaN                       NaN  Urban population (% o...          Urban population          Urban population  [\"linear\", \"log\"]    NaN         NaN  https://data.worldban...              urbanization\n",
       " 582  urban_poverty_percent...                       NaN      measure  Urban poverty headcou...              NaN    NaN      NaN                       NaN  Urban poverty (% urba...             Urban poverty             Urban poverty  [\"linear\", \"log\"]    NaN         NaN  https://data.worldban...        poverty_inequality\n",
       " 583  water_and_sanitation_...                       NaN      measure  Percentage of total a...              NaN    NaN      NaN                       NaN  Water and sanitation ...  Water and sanitation ...  Water and sanitation ...  [\"linear\", \"log\"]    NaN         NaN   https://stats.oecd.org/                 aid_given\n",
       " 584  water_withdrawal_cu_m...                       NaN      measure  Total annual quantity...              NaN    NaN      NaN                       NaN  Water withdrawal (cu ...  Water withdrawal /person          Water withdrawal  [\"linear\", \"log\"]    NaN         NaN  http://www.fao.org/nr...         environment_water\n",
       " 585  wood_removal_cubic_me...                       NaN      measure  The wood removed (vol...              NaN    NaN      NaN                       NaN  Wood removal (cubic m...              Wood removal              Wood removal  [\"log\", \"linear\"]    NaN         NaN  https://www.fao.org/f...                  forestry\n",
       " 586    working_hours_per_week                       NaN      measure  Total amount of yearl...              NaN    NaN      NaN                       NaN    Working hours per week    Working hours per week    Working hours per week  [\"linear\", \"log\"]    NaN         NaN  https://www.ilo.org/i...        economic_situation\n",
       " 587             world_4region  {\"shades\": {\"fill3\": ...   entity_set                       NaN              NaN    geo      NaN  https://docs.google.c...             World Regions                       NaN                       NaN                NaN    NaN         NaN                       NaN           categorizations\n",
       " 588             world_6region  {\"palette\": {\"east_as...   entity_set                       NaN              NaN    geo      NaN  https://docs.google.c...  World Regions (6 colors)                       NaN                       NaN                NaN    NaN         NaN                       NaN           categorizations\n",
       " 589  yearly_co2_emissions_...                       NaN      measure  Total carbon dioxide ...              NaN    NaN      NaN                       NaN  Yearly CO2 emissions ...      CO2 emissions yearly             CO2 emissions  [\"linear\", \"log\"]    NaN         NaN  https://cdiac.ess-div...                 emissions}"
      ]
     },
     "execution_count": 11,
     "metadata": {},
     "output_type": "execute_result"
    }
   ],
   "source": [
    "#This will let us see what is in the datasets\n",
    "#this format will not be very helpful as it is a bit messy. But it gives us an idea nonetheless\n",
    "dfs"
   ]
  },
  {
   "cell_type": "code",
   "execution_count": 13,
   "metadata": {
    "colab": {},
    "colab_type": "code",
    "id": "-uE25LHD8CW0"
   },
   "outputs": [],
   "source": [
    "#income = pd.read_csv('https://raw.githubusercontent.com/open-numbers/ddf--gapminder--systema_globalis/master/ddf--datapoints--income_per_person_gdppercapita_ppp_inflation_adjusted--by--geo--time.csv')"
   ]
  },
  {
   "cell_type": "code",
   "execution_count": 14,
   "metadata": {
    "colab": {},
    "colab_type": "code",
    "id": "gg_pJslMY2bq"
   },
   "outputs": [],
   "source": [
    "#lifespan = pd.read_csv('https://raw.githubusercontent.com/open-numbers/ddf--gapminder--systema_globalis/master/ddf--datapoints--life_expectancy_years--by--geo--time.csv')"
   ]
  },
  {
   "cell_type": "code",
   "execution_count": 15,
   "metadata": {
    "colab": {},
    "colab_type": "code",
    "id": "F6knDUevY-xR"
   },
   "outputs": [],
   "source": [
    "#population = pd.read_csv('https://raw.githubusercontent.com/open-numbers/ddf--gapminder--systema_globalis/master/ddf--datapoints--population_total--by--geo--time.csv')"
   ]
  },
  {
   "cell_type": "code",
   "execution_count": 16,
   "metadata": {
    "colab": {},
    "colab_type": "code",
    "id": "hX6abI-iZGLl"
   },
   "outputs": [],
   "source": [
    "#entities = pd.read_csv('https://raw.githubusercontent.com/open-numbers/ddf--gapminder--systema_globalis/master/ddf--entities--geo--country.csv')"
   ]
  },
  {
   "cell_type": "code",
   "execution_count": 17,
   "metadata": {
    "colab": {},
    "colab_type": "code",
    "id": "AI-zcaDkZHXm"
   },
   "outputs": [],
   "source": [
    "#concepts = pd.read_csv('https://raw.githubusercontent.com/open-numbers/ddf--gapminder--systema_globalis/master/ddf--concepts.csv')"
   ]
  },
  {
   "cell_type": "code",
   "execution_count": 12,
   "metadata": {
    "colab": {
     "base_uri": "https://localhost:8080/",
     "height": 34
    },
    "colab_type": "code",
    "id": "EgFw-g0nZLJy",
    "outputId": "660dd060-7529-4d48-9d81-73911d858367"
   },
   "outputs": [],
   "source": [
    "#income.shape, lifespan.shape, population.shape, entities.shape, concepts.shape"
   ]
  },
  {
   "cell_type": "code",
   "execution_count": 19,
   "metadata": {
    "colab": {
     "base_uri": "https://localhost:8080/",
     "height": 206
    },
    "colab_type": "code",
    "id": "I-T62v7FZQu5",
    "outputId": "82283ef4-90fe-4194-fb30-f411b656cc71"
   },
   "outputs": [
    {
     "data": {
      "text/html": [
       "<div>\n",
       "<style scoped>\n",
       "    .dataframe tbody tr th:only-of-type {\n",
       "        vertical-align: middle;\n",
       "    }\n",
       "\n",
       "    .dataframe tbody tr th {\n",
       "        vertical-align: top;\n",
       "    }\n",
       "\n",
       "    .dataframe thead th {\n",
       "        text-align: right;\n",
       "    }\n",
       "</style>\n",
       "<table border=\"1\" class=\"dataframe\">\n",
       "  <thead>\n",
       "    <tr style=\"text-align: right;\">\n",
       "      <th></th>\n",
       "      <th>geo</th>\n",
       "      <th>time</th>\n",
       "      <th>income_per_person_gdppercapita_ppp_inflation_adjusted</th>\n",
       "    </tr>\n",
       "  </thead>\n",
       "  <tbody>\n",
       "    <tr>\n",
       "      <th>0</th>\n",
       "      <td>afg</td>\n",
       "      <td>1800</td>\n",
       "      <td>603</td>\n",
       "    </tr>\n",
       "    <tr>\n",
       "      <th>1</th>\n",
       "      <td>afg</td>\n",
       "      <td>1801</td>\n",
       "      <td>603</td>\n",
       "    </tr>\n",
       "    <tr>\n",
       "      <th>2</th>\n",
       "      <td>afg</td>\n",
       "      <td>1802</td>\n",
       "      <td>603</td>\n",
       "    </tr>\n",
       "    <tr>\n",
       "      <th>3</th>\n",
       "      <td>afg</td>\n",
       "      <td>1803</td>\n",
       "      <td>603</td>\n",
       "    </tr>\n",
       "    <tr>\n",
       "      <th>4</th>\n",
       "      <td>afg</td>\n",
       "      <td>1804</td>\n",
       "      <td>603</td>\n",
       "    </tr>\n",
       "  </tbody>\n",
       "</table>\n",
       "</div>"
      ],
      "text/plain": [
       "   geo  time  income_per_person_gdppercapita_ppp_inflation_adjusted\n",
       "0  afg  1800                       603                             \n",
       "1  afg  1801                       603                             \n",
       "2  afg  1802                       603                             \n",
       "3  afg  1803                       603                             \n",
       "4  afg  1804                       603                             "
      ]
     },
     "execution_count": 19,
     "metadata": {},
     "output_type": "execute_result"
    }
   ],
   "source": [
    "dfs['income'].head()"
   ]
  },
  {
   "cell_type": "code",
   "execution_count": 20,
   "metadata": {
    "colab": {
     "base_uri": "https://localhost:8080/",
     "height": 206
    },
    "colab_type": "code",
    "id": "2zIdtDESZYG5",
    "outputId": "de98e65b-3113-425e-cb1a-eaced9ce0e4a"
   },
   "outputs": [
    {
     "data": {
      "text/html": [
       "<div>\n",
       "<style scoped>\n",
       "    .dataframe tbody tr th:only-of-type {\n",
       "        vertical-align: middle;\n",
       "    }\n",
       "\n",
       "    .dataframe tbody tr th {\n",
       "        vertical-align: top;\n",
       "    }\n",
       "\n",
       "    .dataframe thead th {\n",
       "        text-align: right;\n",
       "    }\n",
       "</style>\n",
       "<table border=\"1\" class=\"dataframe\">\n",
       "  <thead>\n",
       "    <tr style=\"text-align: right;\">\n",
       "      <th></th>\n",
       "      <th>geo</th>\n",
       "      <th>time</th>\n",
       "      <th>life_expectancy_years</th>\n",
       "    </tr>\n",
       "  </thead>\n",
       "  <tbody>\n",
       "    <tr>\n",
       "      <th>0</th>\n",
       "      <td>abw</td>\n",
       "      <td>1800</td>\n",
       "      <td>34.420</td>\n",
       "    </tr>\n",
       "    <tr>\n",
       "      <th>1</th>\n",
       "      <td>abw</td>\n",
       "      <td>1801</td>\n",
       "      <td>34.420</td>\n",
       "    </tr>\n",
       "    <tr>\n",
       "      <th>2</th>\n",
       "      <td>abw</td>\n",
       "      <td>1802</td>\n",
       "      <td>34.420</td>\n",
       "    </tr>\n",
       "    <tr>\n",
       "      <th>3</th>\n",
       "      <td>abw</td>\n",
       "      <td>1803</td>\n",
       "      <td>34.420</td>\n",
       "    </tr>\n",
       "    <tr>\n",
       "      <th>4</th>\n",
       "      <td>abw</td>\n",
       "      <td>1804</td>\n",
       "      <td>34.420</td>\n",
       "    </tr>\n",
       "  </tbody>\n",
       "</table>\n",
       "</div>"
      ],
      "text/plain": [
       "   geo  time  life_expectancy_years\n",
       "0  abw  1800                 34.420\n",
       "1  abw  1801                 34.420\n",
       "2  abw  1802                 34.420\n",
       "3  abw  1803                 34.420\n",
       "4  abw  1804                 34.420"
      ]
     },
     "execution_count": 20,
     "metadata": {},
     "output_type": "execute_result"
    }
   ],
   "source": [
    "dfs['lifespan'].head()"
   ]
  },
  {
   "cell_type": "code",
   "execution_count": 22,
   "metadata": {
    "colab": {
     "base_uri": "https://localhost:8080/",
     "height": 206
    },
    "colab_type": "code",
    "id": "58AXNVMKZj3T",
    "outputId": "f1e8c5ef-6eab-49da-ee47-5620adf59b6f"
   },
   "outputs": [
    {
     "data": {
      "text/html": [
       "<div>\n",
       "<style scoped>\n",
       "    .dataframe tbody tr th:only-of-type {\n",
       "        vertical-align: middle;\n",
       "    }\n",
       "\n",
       "    .dataframe tbody tr th {\n",
       "        vertical-align: top;\n",
       "    }\n",
       "\n",
       "    .dataframe thead th {\n",
       "        text-align: right;\n",
       "    }\n",
       "</style>\n",
       "<table border=\"1\" class=\"dataframe\">\n",
       "  <thead>\n",
       "    <tr style=\"text-align: right;\">\n",
       "      <th></th>\n",
       "      <th>geo</th>\n",
       "      <th>time</th>\n",
       "      <th>population_total</th>\n",
       "    </tr>\n",
       "  </thead>\n",
       "  <tbody>\n",
       "    <tr>\n",
       "      <th>0</th>\n",
       "      <td>afg</td>\n",
       "      <td>1800</td>\n",
       "      <td>3280000</td>\n",
       "    </tr>\n",
       "    <tr>\n",
       "      <th>1</th>\n",
       "      <td>afg</td>\n",
       "      <td>1801</td>\n",
       "      <td>3280000</td>\n",
       "    </tr>\n",
       "    <tr>\n",
       "      <th>2</th>\n",
       "      <td>afg</td>\n",
       "      <td>1802</td>\n",
       "      <td>3280000</td>\n",
       "    </tr>\n",
       "    <tr>\n",
       "      <th>3</th>\n",
       "      <td>afg</td>\n",
       "      <td>1803</td>\n",
       "      <td>3280000</td>\n",
       "    </tr>\n",
       "    <tr>\n",
       "      <th>4</th>\n",
       "      <td>afg</td>\n",
       "      <td>1804</td>\n",
       "      <td>3280000</td>\n",
       "    </tr>\n",
       "  </tbody>\n",
       "</table>\n",
       "</div>"
      ],
      "text/plain": [
       "   geo  time  population_total\n",
       "0  afg  1800           3280000\n",
       "1  afg  1801           3280000\n",
       "2  afg  1802           3280000\n",
       "3  afg  1803           3280000\n",
       "4  afg  1804           3280000"
      ]
     },
     "execution_count": 22,
     "metadata": {},
     "output_type": "execute_result"
    }
   ],
   "source": [
    "dfs['population'].head()"
   ]
  },
  {
   "cell_type": "code",
   "execution_count": 23,
   "metadata": {
    "colab": {
     "base_uri": "https://localhost:8080/",
     "height": 261
    },
    "colab_type": "code",
    "id": "0ywWDL2MZqlF",
    "outputId": "90185685-2646-4624-e313-3b72067e1af0"
   },
   "outputs": [
    {
     "data": {
      "text/html": [
       "<div>\n",
       "<style scoped>\n",
       "    .dataframe tbody tr th:only-of-type {\n",
       "        vertical-align: middle;\n",
       "    }\n",
       "\n",
       "    .dataframe tbody tr th {\n",
       "        vertical-align: top;\n",
       "    }\n",
       "\n",
       "    .dataframe thead th {\n",
       "        text-align: right;\n",
       "    }\n",
       "</style>\n",
       "<table border=\"1\" class=\"dataframe\">\n",
       "  <thead>\n",
       "    <tr style=\"text-align: right;\">\n",
       "      <th></th>\n",
       "      <th>country</th>\n",
       "      <th>alt_5</th>\n",
       "      <th>alternative_1</th>\n",
       "      <th>alternative_2</th>\n",
       "      <th>alternative_3</th>\n",
       "      <th>alternative_4_cdiac</th>\n",
       "      <th>arb1</th>\n",
       "      <th>arb2</th>\n",
       "      <th>arb3</th>\n",
       "      <th>arb4</th>\n",
       "      <th>arb5</th>\n",
       "      <th>arb6</th>\n",
       "      <th>g77_and_oecd_countries</th>\n",
       "      <th>gapminder_list</th>\n",
       "      <th>god_id</th>\n",
       "      <th>gwid</th>\n",
       "      <th>income_groups</th>\n",
       "      <th>is--country</th>\n",
       "      <th>iso3166_1_alpha2</th>\n",
       "      <th>iso3166_1_alpha3</th>\n",
       "      <th>iso3166_1_numeric</th>\n",
       "      <th>iso3166_2</th>\n",
       "      <th>landlocked</th>\n",
       "      <th>latitude</th>\n",
       "      <th>longitude</th>\n",
       "      <th>main_religion_2008</th>\n",
       "      <th>name</th>\n",
       "      <th>pandg</th>\n",
       "      <th>un_state</th>\n",
       "      <th>unicode_region_subtag</th>\n",
       "      <th>upper_case_name</th>\n",
       "      <th>world_4region</th>\n",
       "      <th>world_6region</th>\n",
       "    </tr>\n",
       "  </thead>\n",
       "  <tbody>\n",
       "    <tr>\n",
       "      <th>0</th>\n",
       "      <td>abkh</td>\n",
       "      <td>NaN</td>\n",
       "      <td>NaN</td>\n",
       "      <td>NaN</td>\n",
       "      <td>NaN</td>\n",
       "      <td>NaN</td>\n",
       "      <td>NaN</td>\n",
       "      <td>NaN</td>\n",
       "      <td>NaN</td>\n",
       "      <td>NaN</td>\n",
       "      <td>NaN</td>\n",
       "      <td>NaN</td>\n",
       "      <td>others</td>\n",
       "      <td>Abkhazia</td>\n",
       "      <td>GE-AB</td>\n",
       "      <td>i0</td>\n",
       "      <td>NaN</td>\n",
       "      <td>True</td>\n",
       "      <td>NaN</td>\n",
       "      <td>NaN</td>\n",
       "      <td>nan</td>\n",
       "      <td>NaN</td>\n",
       "      <td>NaN</td>\n",
       "      <td>nan</td>\n",
       "      <td>nan</td>\n",
       "      <td>NaN</td>\n",
       "      <td>Abkhazia</td>\n",
       "      <td>NaN</td>\n",
       "      <td>False</td>\n",
       "      <td>NaN</td>\n",
       "      <td>NaN</td>\n",
       "      <td>europe</td>\n",
       "      <td>europe_central_asia</td>\n",
       "    </tr>\n",
       "    <tr>\n",
       "      <th>1</th>\n",
       "      <td>abw</td>\n",
       "      <td>NaN</td>\n",
       "      <td>NaN</td>\n",
       "      <td>NaN</td>\n",
       "      <td>NaN</td>\n",
       "      <td>Aruba</td>\n",
       "      <td>NaN</td>\n",
       "      <td>NaN</td>\n",
       "      <td>NaN</td>\n",
       "      <td>NaN</td>\n",
       "      <td>NaN</td>\n",
       "      <td>NaN</td>\n",
       "      <td>others</td>\n",
       "      <td>Aruba</td>\n",
       "      <td>AW</td>\n",
       "      <td>i12</td>\n",
       "      <td>high_income</td>\n",
       "      <td>True</td>\n",
       "      <td>AW</td>\n",
       "      <td>ABW</td>\n",
       "      <td>533.000</td>\n",
       "      <td>NaN</td>\n",
       "      <td>coastline</td>\n",
       "      <td>12.500</td>\n",
       "      <td>-69.967</td>\n",
       "      <td>christian</td>\n",
       "      <td>Aruba</td>\n",
       "      <td>NaN</td>\n",
       "      <td>False</td>\n",
       "      <td>AW</td>\n",
       "      <td>ARUBA</td>\n",
       "      <td>americas</td>\n",
       "      <td>america</td>\n",
       "    </tr>\n",
       "    <tr>\n",
       "      <th>2</th>\n",
       "      <td>afg</td>\n",
       "      <td>NaN</td>\n",
       "      <td>Islamic Republic of A...</td>\n",
       "      <td>NaN</td>\n",
       "      <td>NaN</td>\n",
       "      <td>Afghanistan</td>\n",
       "      <td>NaN</td>\n",
       "      <td>NaN</td>\n",
       "      <td>NaN</td>\n",
       "      <td>NaN</td>\n",
       "      <td>NaN</td>\n",
       "      <td>NaN</td>\n",
       "      <td>g77</td>\n",
       "      <td>Afghanistan</td>\n",
       "      <td>AF</td>\n",
       "      <td>i1</td>\n",
       "      <td>low_income</td>\n",
       "      <td>True</td>\n",
       "      <td>AF</td>\n",
       "      <td>AFG</td>\n",
       "      <td>4.000</td>\n",
       "      <td>NaN</td>\n",
       "      <td>landlocked</td>\n",
       "      <td>33.000</td>\n",
       "      <td>66.000</td>\n",
       "      <td>muslim</td>\n",
       "      <td>Afghanistan</td>\n",
       "      <td>AFGHANISTAN</td>\n",
       "      <td>True</td>\n",
       "      <td>AF</td>\n",
       "      <td>AFGHANISTAN</td>\n",
       "      <td>asia</td>\n",
       "      <td>south_asia</td>\n",
       "    </tr>\n",
       "    <tr>\n",
       "      <th>3</th>\n",
       "      <td>ago</td>\n",
       "      <td>NaN</td>\n",
       "      <td>NaN</td>\n",
       "      <td>NaN</td>\n",
       "      <td>NaN</td>\n",
       "      <td>Angola</td>\n",
       "      <td>NaN</td>\n",
       "      <td>NaN</td>\n",
       "      <td>NaN</td>\n",
       "      <td>NaN</td>\n",
       "      <td>NaN</td>\n",
       "      <td>NaN</td>\n",
       "      <td>g77</td>\n",
       "      <td>Angola</td>\n",
       "      <td>AO</td>\n",
       "      <td>i7</td>\n",
       "      <td>upper_middle_income</td>\n",
       "      <td>True</td>\n",
       "      <td>AO</td>\n",
       "      <td>AGO</td>\n",
       "      <td>24.000</td>\n",
       "      <td>NaN</td>\n",
       "      <td>coastline</td>\n",
       "      <td>-12.500</td>\n",
       "      <td>18.500</td>\n",
       "      <td>christian</td>\n",
       "      <td>Angola</td>\n",
       "      <td>ANGOLA</td>\n",
       "      <td>True</td>\n",
       "      <td>AO</td>\n",
       "      <td>ANGOLA</td>\n",
       "      <td>africa</td>\n",
       "      <td>sub_saharan_africa</td>\n",
       "    </tr>\n",
       "    <tr>\n",
       "      <th>4</th>\n",
       "      <td>aia</td>\n",
       "      <td>NaN</td>\n",
       "      <td>NaN</td>\n",
       "      <td>NaN</td>\n",
       "      <td>NaN</td>\n",
       "      <td>NaN</td>\n",
       "      <td>NaN</td>\n",
       "      <td>NaN</td>\n",
       "      <td>NaN</td>\n",
       "      <td>NaN</td>\n",
       "      <td>NaN</td>\n",
       "      <td>NaN</td>\n",
       "      <td>others</td>\n",
       "      <td>Anguilla</td>\n",
       "      <td>AI</td>\n",
       "      <td>i8</td>\n",
       "      <td>NaN</td>\n",
       "      <td>True</td>\n",
       "      <td>AI</td>\n",
       "      <td>AIA</td>\n",
       "      <td>660.000</td>\n",
       "      <td>NaN</td>\n",
       "      <td>coastline</td>\n",
       "      <td>18.217</td>\n",
       "      <td>-63.050</td>\n",
       "      <td>christian</td>\n",
       "      <td>Anguilla</td>\n",
       "      <td>NaN</td>\n",
       "      <td>False</td>\n",
       "      <td>AI</td>\n",
       "      <td>ANGUILLA</td>\n",
       "      <td>americas</td>\n",
       "      <td>america</td>\n",
       "    </tr>\n",
       "  </tbody>\n",
       "</table>\n",
       "</div>"
      ],
      "text/plain": [
       "  country alt_5             alternative_1 alternative_2 alternative_3 alternative_4_cdiac arb1 arb2 arb3 arb4 arb5 arb6 g77_and_oecd_countries gapminder_list god_id gwid        income_groups  is--country iso3166_1_alpha2 iso3166_1_alpha3  iso3166_1_numeric iso3166_2  landlocked  latitude  longitude main_religion_2008         name        pandg  un_state unicode_region_subtag upper_case_name world_4region        world_6region\n",
       "0    abkh   NaN                       NaN           NaN           NaN                 NaN  NaN  NaN  NaN  NaN  NaN  NaN                 others       Abkhazia  GE-AB   i0                  NaN         True              NaN              NaN                nan       NaN         NaN       nan        nan                NaN     Abkhazia          NaN     False                   NaN             NaN        europe  europe_central_asia\n",
       "1     abw   NaN                       NaN           NaN           NaN               Aruba  NaN  NaN  NaN  NaN  NaN  NaN                 others          Aruba     AW  i12          high_income         True               AW              ABW            533.000       NaN   coastline    12.500    -69.967          christian        Aruba          NaN     False                    AW           ARUBA      americas              america\n",
       "2     afg   NaN  Islamic Republic of A...           NaN           NaN         Afghanistan  NaN  NaN  NaN  NaN  NaN  NaN                    g77    Afghanistan     AF   i1           low_income         True               AF              AFG              4.000       NaN  landlocked    33.000     66.000             muslim  Afghanistan  AFGHANISTAN      True                    AF     AFGHANISTAN          asia           south_asia\n",
       "3     ago   NaN                       NaN           NaN           NaN              Angola  NaN  NaN  NaN  NaN  NaN  NaN                    g77         Angola     AO   i7  upper_middle_income         True               AO              AGO             24.000       NaN   coastline   -12.500     18.500          christian       Angola       ANGOLA      True                    AO          ANGOLA        africa   sub_saharan_africa\n",
       "4     aia   NaN                       NaN           NaN           NaN                 NaN  NaN  NaN  NaN  NaN  NaN  NaN                 others       Anguilla     AI   i8                  NaN         True               AI              AIA            660.000       NaN   coastline    18.217    -63.050          christian     Anguilla          NaN     False                    AI        ANGUILLA      americas              america"
      ]
     },
     "execution_count": 23,
     "metadata": {},
     "output_type": "execute_result"
    }
   ],
   "source": [
    "#pd.options.display.max_columns = 500\n",
    "dfs['entities'].head()"
   ]
  },
  {
   "cell_type": "code",
   "execution_count": 24,
   "metadata": {
    "colab": {
     "base_uri": "https://localhost:8080/",
     "height": 365
    },
    "colab_type": "code",
    "id": "mk_R0eFZZ0G5",
    "outputId": "8e6faabf-a4dc-448d-d1aa-33d0afd3346e"
   },
   "outputs": [
    {
     "data": {
      "text/html": [
       "<div>\n",
       "<style scoped>\n",
       "    .dataframe tbody tr th:only-of-type {\n",
       "        vertical-align: middle;\n",
       "    }\n",
       "\n",
       "    .dataframe tbody tr th {\n",
       "        vertical-align: top;\n",
       "    }\n",
       "\n",
       "    .dataframe thead th {\n",
       "        text-align: right;\n",
       "    }\n",
       "</style>\n",
       "<table border=\"1\" class=\"dataframe\">\n",
       "  <thead>\n",
       "    <tr style=\"text-align: right;\">\n",
       "      <th></th>\n",
       "      <th>concept</th>\n",
       "      <th>color</th>\n",
       "      <th>concept_type</th>\n",
       "      <th>description</th>\n",
       "      <th>description_long</th>\n",
       "      <th>domain</th>\n",
       "      <th>drill_up</th>\n",
       "      <th>indicator_url</th>\n",
       "      <th>name</th>\n",
       "      <th>name_catalog</th>\n",
       "      <th>name_short</th>\n",
       "      <th>scales</th>\n",
       "      <th>source</th>\n",
       "      <th>source_long</th>\n",
       "      <th>source_url</th>\n",
       "      <th>tags</th>\n",
       "    </tr>\n",
       "  </thead>\n",
       "  <tbody>\n",
       "    <tr>\n",
       "      <th>0</th>\n",
       "      <td>adults_with_hiv_perce...</td>\n",
       "      <td>NaN</td>\n",
       "      <td>measure</td>\n",
       "      <td>The estimated percent...</td>\n",
       "      <td>NaN</td>\n",
       "      <td>NaN</td>\n",
       "      <td>NaN</td>\n",
       "      <td>NaN</td>\n",
       "      <td>Adults with HIV (%, a...</td>\n",
       "      <td>Adults with HIV (%, a...</td>\n",
       "      <td>Adults with HIV</td>\n",
       "      <td>[\"log\", \"linear\"]</td>\n",
       "      <td>NaN</td>\n",
       "      <td>NaN</td>\n",
       "      <td>https://www.gapminder...</td>\n",
       "      <td>hiv</td>\n",
       "    </tr>\n",
       "    <tr>\n",
       "      <th>1</th>\n",
       "      <td>age_at_1st_marriage_w...</td>\n",
       "      <td>NaN</td>\n",
       "      <td>measure</td>\n",
       "      <td>The mean age, in year...</td>\n",
       "      <td>NaN</td>\n",
       "      <td>NaN</td>\n",
       "      <td>NaN</td>\n",
       "      <td>NaN</td>\n",
       "      <td>Age at 1st marriage (...</td>\n",
       "      <td>Age at 1st marriage (...</td>\n",
       "      <td>Age at 1st marriage</td>\n",
       "      <td>[\"linear\", \"log\"]</td>\n",
       "      <td>NaN</td>\n",
       "      <td>NaN</td>\n",
       "      <td>https://www.gapminder...</td>\n",
       "      <td>population</td>\n",
       "    </tr>\n",
       "    <tr>\n",
       "      <th>2</th>\n",
       "      <td>aged_15_24_employment...</td>\n",
       "      <td>NaN</td>\n",
       "      <td>measure</td>\n",
       "      <td>Percentage of total p...</td>\n",
       "      <td>NaN</td>\n",
       "      <td>NaN</td>\n",
       "      <td>NaN</td>\n",
       "      <td>NaN</td>\n",
       "      <td>Aged 15-24 employment...</td>\n",
       "      <td>Aged 15-24</td>\n",
       "      <td>Employment rate (%)</td>\n",
       "      <td>[\"linear\", \"log\"]</td>\n",
       "      <td>NaN</td>\n",
       "      <td>NaN</td>\n",
       "      <td>https://www.ilo.org/i...</td>\n",
       "      <td>employment_rate</td>\n",
       "    </tr>\n",
       "    <tr>\n",
       "      <th>3</th>\n",
       "      <td>aged_15_24_unemployme...</td>\n",
       "      <td>NaN</td>\n",
       "      <td>measure</td>\n",
       "      <td>Percentage of total p...</td>\n",
       "      <td>NaN</td>\n",
       "      <td>NaN</td>\n",
       "      <td>NaN</td>\n",
       "      <td>NaN</td>\n",
       "      <td>Aged 15-24 unemployme...</td>\n",
       "      <td>Aged 15-24</td>\n",
       "      <td>Unemployment rate (%)</td>\n",
       "      <td>[\"linear\", \"log\"]</td>\n",
       "      <td>NaN</td>\n",
       "      <td>NaN</td>\n",
       "      <td>https://www.ilo.org/i...</td>\n",
       "      <td>unemployment</td>\n",
       "    </tr>\n",
       "    <tr>\n",
       "      <th>4</th>\n",
       "      <td>aged_15_64_labour_for...</td>\n",
       "      <td>NaN</td>\n",
       "      <td>measure</td>\n",
       "      <td>For age group 15-64, ...</td>\n",
       "      <td>NaN</td>\n",
       "      <td>NaN</td>\n",
       "      <td>NaN</td>\n",
       "      <td>NaN</td>\n",
       "      <td>Aged 15-64 labour for...</td>\n",
       "      <td>Aged 15-64</td>\n",
       "      <td>Labour force particip...</td>\n",
       "      <td>[\"linear\", \"log\"]</td>\n",
       "      <td>NaN</td>\n",
       "      <td>NaN</td>\n",
       "      <td>https://www.ilo.org/i...</td>\n",
       "      <td>labour_force_particip...</td>\n",
       "    </tr>\n",
       "  </tbody>\n",
       "</table>\n",
       "</div>"
      ],
      "text/plain": [
       "                    concept color concept_type               description description_long domain drill_up indicator_url                      name              name_catalog                name_short             scales source source_long                source_url                      tags\n",
       "0  adults_with_hiv_perce...   NaN      measure  The estimated percent...              NaN    NaN      NaN           NaN  Adults with HIV (%, a...  Adults with HIV (%, a...           Adults with HIV  [\"log\", \"linear\"]    NaN         NaN  https://www.gapminder...                       hiv\n",
       "1  age_at_1st_marriage_w...   NaN      measure  The mean age, in year...              NaN    NaN      NaN           NaN  Age at 1st marriage (...  Age at 1st marriage (...       Age at 1st marriage  [\"linear\", \"log\"]    NaN         NaN  https://www.gapminder...                population\n",
       "2  aged_15_24_employment...   NaN      measure  Percentage of total p...              NaN    NaN      NaN           NaN  Aged 15-24 employment...                Aged 15-24       Employment rate (%)  [\"linear\", \"log\"]    NaN         NaN  https://www.ilo.org/i...           employment_rate\n",
       "3  aged_15_24_unemployme...   NaN      measure  Percentage of total p...              NaN    NaN      NaN           NaN  Aged 15-24 unemployme...                Aged 15-24     Unemployment rate (%)  [\"linear\", \"log\"]    NaN         NaN  https://www.ilo.org/i...              unemployment\n",
       "4  aged_15_64_labour_for...   NaN      measure  For age group 15-64, ...              NaN    NaN      NaN           NaN  Aged 15-64 labour for...                Aged 15-64  Labour force particip...  [\"linear\", \"log\"]    NaN         NaN  https://www.ilo.org/i...  labour_force_particip..."
      ]
     },
     "execution_count": 24,
     "metadata": {},
     "output_type": "execute_result"
    }
   ],
   "source": [
    "dfs['concepts'].head()"
   ]
  },
  {
   "cell_type": "code",
   "execution_count": 26,
   "metadata": {
    "colab": {
     "base_uri": "https://localhost:8080/",
     "height": 34
    },
    "colab_type": "code",
    "id": "2vr3P2USgJSE",
    "outputId": "83170b75-6a02-4acc-8703-567252d2eaf9"
   },
   "outputs": [
    {
     "data": {
      "text/plain": [
       "dict_keys(['income', 'lifespan', 'population', 'entities', 'concepts'])"
      ]
     },
     "execution_count": 26,
     "metadata": {},
     "output_type": "execute_result"
    }
   ],
   "source": [
    "#these are the titles of the the ds\n",
    "dfs.keys()"
   ]
  },
  {
   "cell_type": "markdown",
   "metadata": {
    "colab_type": "text",
    "id": "6HYUytvLT8Kf"
   },
   "source": [
    "## Merge data"
   ]
  },
  {
   "cell_type": "markdown",
   "metadata": {
    "colab_type": "text",
    "id": "dhALZDsh9n9L"
   },
   "source": [
    "https://github.com/pandas-dev/pandas/blob/master/doc/cheatsheet/Pandas_Cheat_Sheet.pdf"
   ]
  },
  {
   "cell_type": "code",
   "execution_count": 29,
   "metadata": {},
   "outputs": [],
   "source": [
    "#We will need to begin identifying the columns we need and merging data\n",
    "#Year | Country | Region | Income | Lifespan | Population\n",
    "#1818 | USA | Americas | ### | ## | #\n",
    "#1918\tUSA\tAmericas\t####\t###\t##\n",
    "#2018\tUSA\tAmericas\t#####\t###\t###\n",
    "#1818\tChina\tAsia\t#\t#\t#\n",
    "#1918\tChina\tAsia\t##\t##\t###\n",
    "#2018\tChina\tAsia\t###\t###\t#####;\n",
    "\n"
   ]
  },
  {
   "cell_type": "code",
   "execution_count": 49,
   "metadata": {},
   "outputs": [],
   "source": [
    "#the dfs income, lifespan, and population have the last three columns we need\n",
    "df = pd.merge(dfs['income'], dfs['lifespan']) #now merge with the population df\n",
    "df = pd.merge(df, dfs['population'])"
   ]
  },
  {
   "cell_type": "code",
   "execution_count": 50,
   "metadata": {},
   "outputs": [
    {
     "data": {
      "text/html": [
       "<div>\n",
       "<style scoped>\n",
       "    .dataframe tbody tr th:only-of-type {\n",
       "        vertical-align: middle;\n",
       "    }\n",
       "\n",
       "    .dataframe tbody tr th {\n",
       "        vertical-align: top;\n",
       "    }\n",
       "\n",
       "    .dataframe thead th {\n",
       "        text-align: right;\n",
       "    }\n",
       "</style>\n",
       "<table border=\"1\" class=\"dataframe\">\n",
       "  <thead>\n",
       "    <tr style=\"text-align: right;\">\n",
       "      <th></th>\n",
       "      <th>geo</th>\n",
       "      <th>time</th>\n",
       "      <th>income_per_person_gdppercapita_ppp_inflation_adjusted</th>\n",
       "      <th>life_expectancy_years</th>\n",
       "      <th>population_total</th>\n",
       "    </tr>\n",
       "  </thead>\n",
       "  <tbody>\n",
       "    <tr>\n",
       "      <th>0</th>\n",
       "      <td>afg</td>\n",
       "      <td>1800</td>\n",
       "      <td>603</td>\n",
       "      <td>28.210</td>\n",
       "      <td>3280000</td>\n",
       "    </tr>\n",
       "    <tr>\n",
       "      <th>1</th>\n",
       "      <td>afg</td>\n",
       "      <td>1801</td>\n",
       "      <td>603</td>\n",
       "      <td>28.200</td>\n",
       "      <td>3280000</td>\n",
       "    </tr>\n",
       "    <tr>\n",
       "      <th>2</th>\n",
       "      <td>afg</td>\n",
       "      <td>1802</td>\n",
       "      <td>603</td>\n",
       "      <td>28.190</td>\n",
       "      <td>3280000</td>\n",
       "    </tr>\n",
       "    <tr>\n",
       "      <th>3</th>\n",
       "      <td>afg</td>\n",
       "      <td>1803</td>\n",
       "      <td>603</td>\n",
       "      <td>28.180</td>\n",
       "      <td>3280000</td>\n",
       "    </tr>\n",
       "    <tr>\n",
       "      <th>4</th>\n",
       "      <td>afg</td>\n",
       "      <td>1804</td>\n",
       "      <td>603</td>\n",
       "      <td>28.170</td>\n",
       "      <td>3280000</td>\n",
       "    </tr>\n",
       "  </tbody>\n",
       "</table>\n",
       "</div>"
      ],
      "text/plain": [
       "   geo  time  income_per_person_gdppercapita_ppp_inflation_adjusted  life_expectancy_years  population_total\n",
       "0  afg  1800                       603                                              28.210           3280000\n",
       "1  afg  1801                       603                                              28.200           3280000\n",
       "2  afg  1802                       603                                              28.190           3280000\n",
       "3  afg  1803                       603                                              28.180           3280000\n",
       "4  afg  1804                       603                                              28.170           3280000"
      ]
     },
     "execution_count": 50,
     "metadata": {},
     "output_type": "execute_result"
    }
   ],
   "source": [
    "df.head()"
   ]
  },
  {
   "cell_type": "code",
   "execution_count": null,
   "metadata": {},
   "outputs": [],
   "source": [
    "#we have 4 of the 6 columns so far."
   ]
  },
  {
   "cell_type": "code",
   "execution_count": 52,
   "metadata": {},
   "outputs": [
    {
     "data": {
      "text/html": [
       "<div>\n",
       "<style scoped>\n",
       "    .dataframe tbody tr th:only-of-type {\n",
       "        vertical-align: middle;\n",
       "    }\n",
       "\n",
       "    .dataframe tbody tr th {\n",
       "        vertical-align: top;\n",
       "    }\n",
       "\n",
       "    .dataframe thead th {\n",
       "        text-align: right;\n",
       "    }\n",
       "</style>\n",
       "<table border=\"1\" class=\"dataframe\">\n",
       "  <thead>\n",
       "    <tr style=\"text-align: right;\">\n",
       "      <th></th>\n",
       "      <th>geo</th>\n",
       "      <th>time</th>\n",
       "      <th>income_per_person_gdppercapita_ppp_inflation_adjusted</th>\n",
       "      <th>life_expectancy_years</th>\n",
       "      <th>population_total</th>\n",
       "      <th>country</th>\n",
       "      <th>name</th>\n",
       "      <th>world_6region</th>\n",
       "    </tr>\n",
       "  </thead>\n",
       "  <tbody>\n",
       "    <tr>\n",
       "      <th>0</th>\n",
       "      <td>afg</td>\n",
       "      <td>1800</td>\n",
       "      <td>603</td>\n",
       "      <td>28.210</td>\n",
       "      <td>3280000</td>\n",
       "      <td>afg</td>\n",
       "      <td>Afghanistan</td>\n",
       "      <td>south_asia</td>\n",
       "    </tr>\n",
       "    <tr>\n",
       "      <th>1</th>\n",
       "      <td>afg</td>\n",
       "      <td>1801</td>\n",
       "      <td>603</td>\n",
       "      <td>28.200</td>\n",
       "      <td>3280000</td>\n",
       "      <td>afg</td>\n",
       "      <td>Afghanistan</td>\n",
       "      <td>south_asia</td>\n",
       "    </tr>\n",
       "    <tr>\n",
       "      <th>2</th>\n",
       "      <td>afg</td>\n",
       "      <td>1802</td>\n",
       "      <td>603</td>\n",
       "      <td>28.190</td>\n",
       "      <td>3280000</td>\n",
       "      <td>afg</td>\n",
       "      <td>Afghanistan</td>\n",
       "      <td>south_asia</td>\n",
       "    </tr>\n",
       "    <tr>\n",
       "      <th>3</th>\n",
       "      <td>afg</td>\n",
       "      <td>1803</td>\n",
       "      <td>603</td>\n",
       "      <td>28.180</td>\n",
       "      <td>3280000</td>\n",
       "      <td>afg</td>\n",
       "      <td>Afghanistan</td>\n",
       "      <td>south_asia</td>\n",
       "    </tr>\n",
       "    <tr>\n",
       "      <th>4</th>\n",
       "      <td>afg</td>\n",
       "      <td>1804</td>\n",
       "      <td>603</td>\n",
       "      <td>28.170</td>\n",
       "      <td>3280000</td>\n",
       "      <td>afg</td>\n",
       "      <td>Afghanistan</td>\n",
       "      <td>south_asia</td>\n",
       "    </tr>\n",
       "  </tbody>\n",
       "</table>\n",
       "</div>"
      ],
      "text/plain": [
       "   geo  time  income_per_person_gdppercapita_ppp_inflation_adjusted  life_expectancy_years  population_total country         name world_6region\n",
       "0  afg  1800                       603                                              28.210           3280000     afg  Afghanistan    south_asia\n",
       "1  afg  1801                       603                                              28.200           3280000     afg  Afghanistan    south_asia\n",
       "2  afg  1802                       603                                              28.190           3280000     afg  Afghanistan    south_asia\n",
       "3  afg  1803                       603                                              28.180           3280000     afg  Afghanistan    south_asia\n",
       "4  afg  1804                       603                                              28.170           3280000     afg  Afghanistan    south_asia"
      ]
     },
     "execution_count": 52,
     "metadata": {},
     "output_type": "execute_result"
    }
   ],
   "source": [
    "df = pd.merge(df, dfs['entities'][['country', 'name', 'world_6region']], left_on='geo', right_on='country')\n",
    "\n",
    "df.head()"
   ]
  },
  {
   "cell_type": "code",
   "execution_count": 53,
   "metadata": {},
   "outputs": [
    {
     "data": {
      "text/html": [
       "<div>\n",
       "<style scoped>\n",
       "    .dataframe tbody tr th:only-of-type {\n",
       "        vertical-align: middle;\n",
       "    }\n",
       "\n",
       "    .dataframe tbody tr th {\n",
       "        vertical-align: top;\n",
       "    }\n",
       "\n",
       "    .dataframe thead th {\n",
       "        text-align: right;\n",
       "    }\n",
       "</style>\n",
       "<table border=\"1\" class=\"dataframe\">\n",
       "  <thead>\n",
       "    <tr style=\"text-align: right;\">\n",
       "      <th></th>\n",
       "      <th>time</th>\n",
       "      <th>name</th>\n",
       "      <th>world_6region</th>\n",
       "      <th>income_per_person_gdppercapita_ppp_inflation_adjusted</th>\n",
       "      <th>life_expectancy_years</th>\n",
       "      <th>population_total</th>\n",
       "    </tr>\n",
       "  </thead>\n",
       "  <tbody>\n",
       "    <tr>\n",
       "      <th>0</th>\n",
       "      <td>1800</td>\n",
       "      <td>Afghanistan</td>\n",
       "      <td>south_asia</td>\n",
       "      <td>603</td>\n",
       "      <td>28.210</td>\n",
       "      <td>3280000</td>\n",
       "    </tr>\n",
       "    <tr>\n",
       "      <th>1</th>\n",
       "      <td>1801</td>\n",
       "      <td>Afghanistan</td>\n",
       "      <td>south_asia</td>\n",
       "      <td>603</td>\n",
       "      <td>28.200</td>\n",
       "      <td>3280000</td>\n",
       "    </tr>\n",
       "    <tr>\n",
       "      <th>2</th>\n",
       "      <td>1802</td>\n",
       "      <td>Afghanistan</td>\n",
       "      <td>south_asia</td>\n",
       "      <td>603</td>\n",
       "      <td>28.190</td>\n",
       "      <td>3280000</td>\n",
       "    </tr>\n",
       "    <tr>\n",
       "      <th>3</th>\n",
       "      <td>1803</td>\n",
       "      <td>Afghanistan</td>\n",
       "      <td>south_asia</td>\n",
       "      <td>603</td>\n",
       "      <td>28.180</td>\n",
       "      <td>3280000</td>\n",
       "    </tr>\n",
       "    <tr>\n",
       "      <th>4</th>\n",
       "      <td>1804</td>\n",
       "      <td>Afghanistan</td>\n",
       "      <td>south_asia</td>\n",
       "      <td>603</td>\n",
       "      <td>28.170</td>\n",
       "      <td>3280000</td>\n",
       "    </tr>\n",
       "  </tbody>\n",
       "</table>\n",
       "</div>"
      ],
      "text/plain": [
       "   time         name world_6region  income_per_person_gdppercapita_ppp_inflation_adjusted  life_expectancy_years  population_total\n",
       "0  1800  Afghanistan    south_asia                       603                                              28.210           3280000\n",
       "1  1801  Afghanistan    south_asia                       603                                              28.200           3280000\n",
       "2  1802  Afghanistan    south_asia                       603                                              28.190           3280000\n",
       "3  1803  Afghanistan    south_asia                       603                                              28.180           3280000\n",
       "4  1804  Afghanistan    south_asia                       603                                              28.170           3280000"
      ]
     },
     "execution_count": 53,
     "metadata": {},
     "output_type": "execute_result"
    }
   ],
   "source": [
    "df = df[['time', 'name', 'world_6region', 'income_per_person_gdppercapita_ppp_inflation_adjusted', 'life_expectancy_years', 'population_total']]\n",
    "df.head()"
   ]
  },
  {
   "cell_type": "code",
   "execution_count": 54,
   "metadata": {
    "colab": {
     "base_uri": "https://localhost:8080/",
     "height": 206
    },
    "colab_type": "code",
    "id": "UvHyP6czjk7c",
    "outputId": "14729609-9c71-4e3f-b2e7-2514561bbe5d"
   },
   "outputs": [
    {
     "data": {
      "text/html": [
       "<div>\n",
       "<style scoped>\n",
       "    .dataframe tbody tr th:only-of-type {\n",
       "        vertical-align: middle;\n",
       "    }\n",
       "\n",
       "    .dataframe tbody tr th {\n",
       "        vertical-align: top;\n",
       "    }\n",
       "\n",
       "    .dataframe thead th {\n",
       "        text-align: right;\n",
       "    }\n",
       "</style>\n",
       "<table border=\"1\" class=\"dataframe\">\n",
       "  <thead>\n",
       "    <tr style=\"text-align: right;\">\n",
       "      <th></th>\n",
       "      <th>year</th>\n",
       "      <th>country</th>\n",
       "      <th>region</th>\n",
       "      <th>income</th>\n",
       "      <th>lifespan</th>\n",
       "      <th>population</th>\n",
       "    </tr>\n",
       "  </thead>\n",
       "  <tbody>\n",
       "    <tr>\n",
       "      <th>0</th>\n",
       "      <td>1800</td>\n",
       "      <td>Afghanistan</td>\n",
       "      <td>south_asia</td>\n",
       "      <td>603</td>\n",
       "      <td>28.210</td>\n",
       "      <td>3280000</td>\n",
       "    </tr>\n",
       "    <tr>\n",
       "      <th>1</th>\n",
       "      <td>1801</td>\n",
       "      <td>Afghanistan</td>\n",
       "      <td>south_asia</td>\n",
       "      <td>603</td>\n",
       "      <td>28.200</td>\n",
       "      <td>3280000</td>\n",
       "    </tr>\n",
       "    <tr>\n",
       "      <th>2</th>\n",
       "      <td>1802</td>\n",
       "      <td>Afghanistan</td>\n",
       "      <td>south_asia</td>\n",
       "      <td>603</td>\n",
       "      <td>28.190</td>\n",
       "      <td>3280000</td>\n",
       "    </tr>\n",
       "    <tr>\n",
       "      <th>3</th>\n",
       "      <td>1803</td>\n",
       "      <td>Afghanistan</td>\n",
       "      <td>south_asia</td>\n",
       "      <td>603</td>\n",
       "      <td>28.180</td>\n",
       "      <td>3280000</td>\n",
       "    </tr>\n",
       "    <tr>\n",
       "      <th>4</th>\n",
       "      <td>1804</td>\n",
       "      <td>Afghanistan</td>\n",
       "      <td>south_asia</td>\n",
       "      <td>603</td>\n",
       "      <td>28.170</td>\n",
       "      <td>3280000</td>\n",
       "    </tr>\n",
       "  </tbody>\n",
       "</table>\n",
       "</div>"
      ],
      "text/plain": [
       "   year      country      region  income  lifespan  population\n",
       "0  1800  Afghanistan  south_asia     603    28.210     3280000\n",
       "1  1801  Afghanistan  south_asia     603    28.200     3280000\n",
       "2  1802  Afghanistan  south_asia     603    28.190     3280000\n",
       "3  1803  Afghanistan  south_asia     603    28.180     3280000\n",
       "4  1804  Afghanistan  south_asia     603    28.170     3280000"
      ]
     },
     "execution_count": 54,
     "metadata": {},
     "output_type": "execute_result"
    }
   ],
   "source": [
    "col_name_map = {\n",
    "    'time': 'year', \n",
    "    'income_per_person_gdppercapita_ppp_inflation_adjusted': 'income', \n",
    "    'life_expectancy_years': 'lifespan', \n",
    "    'population_total': 'population', \n",
    "    'name': 'country', \n",
    "    'world_6region': 'region'\n",
    "}\n",
    "\n",
    "df = df.rename(columns=col_name_map)\n",
    "df.head()"
   ]
  },
  {
   "cell_type": "code",
   "execution_count": 55,
   "metadata": {
    "colab": {
     "base_uri": "https://localhost:8080/",
     "height": 34
    },
    "colab_type": "code",
    "id": "K-goT_8Wjyru",
    "outputId": "9a2f23b2-6305-4b44-aa2c-133d30e9771a"
   },
   "outputs": [
    {
     "data": {
      "text/plain": [
       "(40437, 6)"
      ]
     },
     "execution_count": 55,
     "metadata": {},
     "output_type": "execute_result"
    }
   ],
   "source": [
    "df.shape"
   ]
  },
  {
   "cell_type": "markdown",
   "metadata": {
    "colab_type": "text",
    "id": "4OdEr5IFVdF5"
   },
   "source": [
    "## Explore data"
   ]
  },
  {
   "cell_type": "code",
   "execution_count": 56,
   "metadata": {
    "colab": {
     "base_uri": "https://localhost:8080/",
     "height": 208
    },
    "colab_type": "code",
    "id": "4IzXea0T64x4",
    "outputId": "26f1526e-1c26-4932-e057-aadade4b256b"
   },
   "outputs": [
    {
     "name": "stdout",
     "output_type": "stream",
     "text": [
      "<class 'pandas.core.frame.DataFrame'>\n",
      "Int64Index: 40437 entries, 0 to 40436\n",
      "Data columns (total 6 columns):\n",
      "year          40437 non-null int64\n",
      "country       40437 non-null object\n",
      "region        40437 non-null object\n",
      "income        40437 non-null int64\n",
      "lifespan      40437 non-null float64\n",
      "population    40437 non-null int64\n",
      "dtypes: float64(1), int64(3), object(2)\n",
      "memory usage: 2.2+ MB\n"
     ]
    }
   ],
   "source": [
    "df.info()"
   ]
  },
  {
   "cell_type": "code",
   "execution_count": 57,
   "metadata": {
    "colab": {
     "base_uri": "https://localhost:8080/",
     "height": 139
    },
    "colab_type": "code",
    "id": "20jU_lLJmB8p",
    "outputId": "5e99ea21-c7db-40c3-8ac8-492ad765b0c2"
   },
   "outputs": [
    {
     "data": {
      "text/plain": [
       "year            int64\n",
       "country        object\n",
       "region         object\n",
       "income          int64\n",
       "lifespan      float64\n",
       "population      int64\n",
       "dtype: object"
      ]
     },
     "execution_count": 57,
     "metadata": {},
     "output_type": "execute_result"
    }
   ],
   "source": [
    "df.dtypes"
   ]
  },
  {
   "cell_type": "code",
   "execution_count": 58,
   "metadata": {
    "colab": {
     "base_uri": "https://localhost:8080/",
     "height": 300
    },
    "colab_type": "code",
    "id": "ECMor7AlmE1G",
    "outputId": "d38b5cbe-4ddd-435a-c2e1-37f4a7084648"
   },
   "outputs": [
    {
     "data": {
      "text/html": [
       "<div>\n",
       "<style scoped>\n",
       "    .dataframe tbody tr th:only-of-type {\n",
       "        vertical-align: middle;\n",
       "    }\n",
       "\n",
       "    .dataframe tbody tr th {\n",
       "        vertical-align: top;\n",
       "    }\n",
       "\n",
       "    .dataframe thead th {\n",
       "        text-align: right;\n",
       "    }\n",
       "</style>\n",
       "<table border=\"1\" class=\"dataframe\">\n",
       "  <thead>\n",
       "    <tr style=\"text-align: right;\">\n",
       "      <th></th>\n",
       "      <th>year</th>\n",
       "      <th>income</th>\n",
       "      <th>lifespan</th>\n",
       "      <th>population</th>\n",
       "    </tr>\n",
       "  </thead>\n",
       "  <tbody>\n",
       "    <tr>\n",
       "      <th>count</th>\n",
       "      <td>40437.000</td>\n",
       "      <td>40437.000</td>\n",
       "      <td>40437.000</td>\n",
       "      <td>40437.000</td>\n",
       "    </tr>\n",
       "    <tr>\n",
       "      <th>mean</th>\n",
       "      <td>1909.293</td>\n",
       "      <td>4619.493</td>\n",
       "      <td>43.132</td>\n",
       "      <td>13712042.573</td>\n",
       "    </tr>\n",
       "    <tr>\n",
       "      <th>std</th>\n",
       "      <td>63.309</td>\n",
       "      <td>10209.571</td>\n",
       "      <td>16.313</td>\n",
       "      <td>66063348.915</td>\n",
       "    </tr>\n",
       "    <tr>\n",
       "      <th>min</th>\n",
       "      <td>1800.000</td>\n",
       "      <td>247.000</td>\n",
       "      <td>1.000</td>\n",
       "      <td>2128.000</td>\n",
       "    </tr>\n",
       "    <tr>\n",
       "      <th>25%</th>\n",
       "      <td>1854.000</td>\n",
       "      <td>876.000</td>\n",
       "      <td>31.160</td>\n",
       "      <td>411331.000</td>\n",
       "    </tr>\n",
       "    <tr>\n",
       "      <th>50%</th>\n",
       "      <td>1909.000</td>\n",
       "      <td>1442.000</td>\n",
       "      <td>35.500</td>\n",
       "      <td>1985952.000</td>\n",
       "    </tr>\n",
       "    <tr>\n",
       "      <th>75%</th>\n",
       "      <td>1964.000</td>\n",
       "      <td>3488.000</td>\n",
       "      <td>55.970</td>\n",
       "      <td>6499707.000</td>\n",
       "    </tr>\n",
       "    <tr>\n",
       "      <th>max</th>\n",
       "      <td>2018.000</td>\n",
       "      <td>177522.000</td>\n",
       "      <td>84.170</td>\n",
       "      <td>1415045928.000</td>\n",
       "    </tr>\n",
       "  </tbody>\n",
       "</table>\n",
       "</div>"
      ],
      "text/plain": [
       "           year     income  lifespan     population\n",
       "count 40437.000  40437.000 40437.000      40437.000\n",
       "mean   1909.293   4619.493    43.132   13712042.573\n",
       "std      63.309  10209.571    16.313   66063348.915\n",
       "min    1800.000    247.000     1.000       2128.000\n",
       "25%    1854.000    876.000    31.160     411331.000\n",
       "50%    1909.000   1442.000    35.500    1985952.000\n",
       "75%    1964.000   3488.000    55.970    6499707.000\n",
       "max    2018.000 177522.000    84.170 1415045928.000"
      ]
     },
     "execution_count": 58,
     "metadata": {},
     "output_type": "execute_result"
    }
   ],
   "source": [
    "df.describe()"
   ]
  },
  {
   "cell_type": "markdown",
   "metadata": {
    "colab_type": "text",
    "id": "hecscpimY6Oz"
   },
   "source": [
    "## Plot visualization"
   ]
  },
  {
   "cell_type": "code",
   "execution_count": 68,
   "metadata": {
    "colab": {},
    "colab_type": "code",
    "id": "_o8RmX2M67ai"
   },
   "outputs": [
    {
     "name": "stdout",
     "output_type": "stream",
     "text": [
      "       year        country   region  income  lifespan  population\n",
      "38028  1800  United States  america    2127    39.410     6801854\n",
      "38029  1801  United States  america    2167    39.410     6933517\n",
      "38030  1802  United States  america    2202    39.410     7067728\n",
      "38031  1803  United States  america    2166    39.410     7204538\n",
      "38032  1804  United States  america    2165    39.410     7343995\n",
      "38033  1805  United States  america    2209    39.410     7486152\n",
      "38034  1806  United States  america    2251    39.410     7631061\n",
      "38035  1807  United States  america    2273    39.410     7778775\n",
      "38036  1808  United States  america    2113    39.410     7929348\n",
      "38037  1809  United States  america    2217    39.410     8082836\n",
      "38038  1810  United States  america    2282    39.410     8294928\n",
      "38039  1811  United States  america    2326    39.410     8461458\n",
      "38040  1812  United States  america    2287    39.410     8637266\n",
      "38041  1813  United States  america    2312    39.410     8822188\n",
      "38042  1814  United States  america    2357    39.410     9016100\n",
      "38043  1815  United States  america    2348    39.410     9218879\n",
      "38044  1816  United States  america    2253    39.410     9430398\n",
      "38045  1817  United States  america    2251    39.410     9650391\n",
      "38046  1818  United States  america    2258    39.410     9879049\n",
      "38047  1819  United States  america    2254    39.410    10116052\n",
      "38048  1820  United States  america    2241    39.410    10361646\n",
      "38049  1821  United States  america    2276    39.410    10619707\n",
      "38050  1822  United States  america    2339    39.410    10890141\n",
      "38051  1823  United States  america    2314    39.410    11172754\n",
      "38052  1824  United States  america    2377    39.410    11467399\n",
      "...     ...            ...      ...     ...       ...         ...\n",
      "38222  1994  United States  america   38892    75.790   262741566\n",
      "38223  1995  United States  america   39476    75.910   265658849\n",
      "38224  1996  United States  america   40501    76.240   268803424\n",
      "38225  1997  United States  america   41812    76.600   272136551\n",
      "38226  1998  United States  america   43166    76.740   275542603\n",
      "38227  1999  United States  america   44673    76.780   278862277\n",
      "38228  2000  United States  america   45986    76.900   281982778\n",
      "38229  2001  United States  america   45978    76.990   284852391\n",
      "38230  2002  United States  america   46367    77.120   287506847\n",
      "38231  2003  United States  america   47260    77.270   290027624\n",
      "38232  2004  United States  america   48597    77.490   292539324\n",
      "38233  2005  United States  america   49762    77.650   295129501\n",
      "38234  2006  United States  america   50599    77.910   297827356\n",
      "38235  2007  United States  america   51011    78.120   300595175\n",
      "38236  2008  United States  america   50384    78.330   303374067\n",
      "38237  2009  United States  america   48558    78.560   306076362\n",
      "38238  2010  United States  america   49373    78.740   308641391\n",
      "38239  2011  United States  america   49791    78.830   311051373\n",
      "38240  2012  United States  america   50520    78.910   313335423\n",
      "38241  2013  United States  america   51008    78.930   315536676\n",
      "38242  2014  United States  america   51831    78.920   317718779\n",
      "38243  2015  United States  america   52790    78.850   319929162\n",
      "38244  2016  United States  america   53273    78.840   322179605\n",
      "38245  2017  United States  america   54163    78.990   324459463\n",
      "38246  2018  United States  america   54898    79.140   326766748\n"
     ]
    },
    {
     "data": {
      "text/plain": [
       "<matplotlib.axes._subplots.AxesSubplot at 0x1a23c11f28>"
      ]
     },
     "execution_count": 68,
     "metadata": {},
     "output_type": "execute_result"
    },
    {
     "data": {
      "image/png": "[encoded data removed]",
      "text/plain": [
       "<Figure size 432x288 with 1 Axes>"
      ]
     },
     "metadata": {
      "needs_background": "light"
     },
     "output_type": "display_data"
    }
   ],
   "source": [
    "usa = df[df['country'] == 'United States']\n",
    "print(usa)\n",
    "usa['population'].hist()\n"
   ]
  },
  {
   "cell_type": "code",
   "execution_count": null,
   "metadata": {},
   "outputs": [],
   "source": [
    "sns.distplot"
   ]
  },
  {
   "cell_type": "markdown",
   "metadata": {
    "colab_type": "text",
    "id": "8OFxenCdhocj"
   },
   "source": [
    "## Analyze outliers"
   ]
  },
  {
   "cell_type": "code",
   "execution_count": 0,
   "metadata": {
    "colab": {},
    "colab_type": "code",
    "id": "D59bn-7k6-Io"
   },
   "outputs": [],
   "source": []
  },
  {
   "cell_type": "markdown",
   "metadata": {
    "colab_type": "text",
    "id": "DNTMMBkVhrGk"
   },
   "source": [
    "## Plot multiple years"
   ]
  },
  {
   "cell_type": "code",
   "execution_count": 0,
   "metadata": {
    "colab": {},
    "colab_type": "code",
    "id": "JkTUmYGF7BQt"
   },
   "outputs": [],
   "source": []
  },
  {
   "cell_type": "markdown",
   "metadata": {
    "colab_type": "text",
    "id": "BB1Ki0v6hxCA"
   },
   "source": [
    "## Point out a story"
   ]
  },
  {
   "cell_type": "code",
   "execution_count": 0,
   "metadata": {
    "colab": {},
    "colab_type": "code",
    "id": "eSgZhD3v7HIe"
   },
   "outputs": [],
   "source": []
  },
  {
   "cell_type": "markdown",
   "metadata": {
    "colab_type": "text",
    "id": "6SQ2HLI8JYvp"
   },
   "source": [
    "# ASSIGNMENT\n",
    "Replicate the lesson code\n",
    "\n",
    "# STRETCH OPTIONS\n",
    "\n",
    "## 1. Animate!\n",
    "- [Making animations work in Google Colaboratory](https://medium.com/lambda-school-machine-learning/making-animations-work-in-google-colaboratory-new-home-for-ml-prototyping-c6147186ae75)\n",
    "- [How to Create Animated Graphs in Python](https://towardsdatascience.com/how-to-create-animated-graphs-in-python-bb619cc2dec1)\n",
    "- [The Ultimate Day of Chicago Bikeshare](https://chrisluedtke.github.io/divvy-data.html) (Lambda School Data Science student)\n",
    "\n",
    "## 2. Work on anything related to your portfolio site / project"
   ]
  }
 ],
 "metadata": {
  "colab": {
   "collapsed_sections": [],
   "name": "Copy of LS_DS_224_Sequence_your_narrative.ipynb",
   "provenance": [],
   "version": "0.3.2"
  },
  "kernelspec": {
   "display_name": "Python 3",
   "language": "python",
   "name": "python3"
  },
  "language_info": {
   "codemirror_mode": {
    "name": "ipython",
    "version": 3
   },
   "file_extension": ".py",
   "mimetype": "text/x-python",
   "name": "python",
   "nbconvert_exporter": "python",
   "pygments_lexer": "ipython3",
   "version": "3.7.3"
  }
 },
 "nbformat": 4,
 "nbformat_minor": 1
}
